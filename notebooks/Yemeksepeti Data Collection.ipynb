{
 "cells": [
  {
   "attachments": {},
   "cell_type": "markdown",
   "metadata": {},
   "source": [
    "# Yemeksepeti Data Collection\n",
    "\n",
    "This notebook aims to employ various web scraping techniques to gather data on restaurants from the popular platform \"Yemeksepeti\". The collected data will be stored in the JSON format within the designated directory named `collected_data`.\n",
    "\n",
    "The dataset will encompass a wide range of information pertaining to the restaurants, encompassing details such as their menu items, pricing, customer comments, ratings, and corresponding timestamps.\n",
    "\n",
    "Subsequently, the primary goal is to conduct semantic analysis on the acquired dataset, with the aim of gaining deeper insights into consumer behavior patterns within the context of Turkey."
   ]
  },
  {
   "cell_type": "code",
   "execution_count": null,
   "metadata": {},
   "outputs": [],
   "source": [
    "# import libraries\n",
    "\n",
    "import requests"
   ]
  },
  {
   "attachments": {},
   "cell_type": "markdown",
   "metadata": {},
   "source": [
    "## A List of Resturants in Istanbul\n",
    "\n",
    "In this section, our goal is to gather a comprehensive list of all restaurants in Istanbul, complete with detailed information such as their address, budget, cuisine offerings, and most importantly, the URLs leading to their respective pages on Yemeksepeti.\n",
    "\n",
    "To accomplish this task, we will send a specific request to Yemeksepeti's database and parse the response into a JSON format. This will enable us to efficiently organize and explore the gathered information, providing valuable insights"
   ]
  },
  {
   "cell_type": "code",
   "execution_count": 22,
   "metadata": {},
   "outputs": [
    {
     "name": "stdout",
     "output_type": "stream",
     "text": [
      "sending a request...\n",
      "saving the json data...\n",
      "succefully exported the data. path: `../collected_data/yemeksepeti_resturants_data.json`\n"
     ]
    }
   ],
   "source": [
    "# Yemeksepeti uses the Delivery Hero servers to store it's data, hence we can get resturant's data by sending a request to delivery hero\n",
    "# the arguments ...&offset=0&limit=500&... can be added to the url to specify the data request size\n",
    "yemeksepeti_request_url = \"https://disco.deliveryhero.io/listing/api/v1/pandora/vendors?language_id=3&vertical=restaurants&country=tr&include=characteristics&configuration=Variantn&sort=&city_id=34\"\n",
    "\n",
    "# the headers are acquired from the requests from yemeksepeti's webpage\n",
    "headers = {\n",
    "'accept': 'application/json, text/plain, */*',\n",
    "'accept-encoding': 'gzip, deflate, br',\n",
    "'accept-language': 'en-US,en;q=0.9',\n",
    "'dnt': '1',\n",
    "'origin': 'https://www.yemeksepeti.com',\n",
    "'perseus-client-id': '1683402284518.770138949646337300.d4t6e4b8h2',\n",
    "'perseus-session-id': '1683746387414.963635505715628500.nu2sj79e0c',\n",
    "'referer': 'https://www.yemeksepeti.com/',\n",
    "'user-agent': 'Mozilla/5.0 (Macintosh; Intel Mac OS X 10_15_7) AppleWebKit/537.36 (KHTML, like Gecko) Chrome/113.0.0.0 Safari/537.36',\n",
    "'x-disco-client-id': 'web',\n",
    "'x-fp-api-key': 'volo '\n",
    "}\n",
    "\n",
    "# send the request and store the response\n",
    "print(\"sending a request...\")\n",
    "response = requests.get(yemeksepeti_request_url, headers=headers)\n",
    "\n",
    "# save the response data as json\n",
    "print(\"saving the json data...\")\n",
    "data_export_path = '../collected_data/yemeksepeti_resturants_data.json'\n",
    "with open(data_export_path, 'wb') as of:\n",
    "    of.write(response.content)\n",
    "\n",
    "print(f\"succefully exported the data. path: `{data_export_path}`\")"
   ]
  }
 ],
 "metadata": {
  "kernelspec": {
   "display_name": "base",
   "language": "python",
   "name": "python3"
  },
  "language_info": {
   "codemirror_mode": {
    "name": "ipython",
    "version": 3
   },
   "file_extension": ".py",
   "mimetype": "text/x-python",
   "name": "python",
   "nbconvert_exporter": "python",
   "pygments_lexer": "ipython3",
   "version": "3.10.8"
  },
  "orig_nbformat": 4
 },
 "nbformat": 4,
 "nbformat_minor": 2
}
