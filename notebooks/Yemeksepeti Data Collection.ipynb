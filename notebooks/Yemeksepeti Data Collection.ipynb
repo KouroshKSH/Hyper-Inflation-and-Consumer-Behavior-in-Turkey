{
 "cells": [
  {
   "attachments": {},
   "cell_type": "markdown",
   "metadata": {},
   "source": [
    "# Yemeksepeti Data Collection\n",
    "\n",
    "This notebook aims to employ various web scraping techniques to gather data on restaurants from the popular platform \"Yemeksepeti\". The collected data will be stored in the JSON format within the designated directory named `collected_data`.\n",
    "\n",
    "The dataset will encompass a wide range of information pertaining to the restaurants, encompassing details such as their menu items, pricing, customer comments, ratings, and corresponding timestamps.\n",
    "\n",
    "Subsequently, the primary goal is to conduct semantic analysis on the acquired dataset, with the aim of gaining deeper insights into consumer behavior patterns within the context of Turkey."
   ]
  },
  {
   "attachments": {},
   "cell_type": "markdown",
   "metadata": {},
   "source": [
    "#### 📁 The files are too large (13.9 MB + 84.4 MB) to be uploaded to github, you can acess them through [Google Drive](https://drive.google.com/drive/folders/1l4J1IXDtvGCOBzbD7jX-Y-Kud4FOj86S?usp=sharing)."
   ]
  },
  {
   "cell_type": "code",
   "execution_count": null,
   "metadata": {},
   "outputs": [],
   "source": [
    "# import libraries\n",
    "\n",
    "import grequests\n",
    "import requests\n",
    "import json\n",
    "import os"
   ]
  },
  {
   "cell_type": "code",
   "execution_count": null,
   "metadata": {},
   "outputs": [],
   "source": [
    "# directories \n",
    "\n",
    "RESTAURANT_LIST_DIR = '../collected_data/yemeksepeti_restaurants_list_per_city/'\n",
    "REVIEWS_COLLECTION_DIR = '../collected_data/yemeksepeti_reviews_collection_per_city/'"
   ]
  },
  {
   "attachments": {},
   "cell_type": "markdown",
   "metadata": {},
   "source": [
    "## A List of restaurants in every city in Turkey \n",
    "\n",
    "In this section, our goal is to gather a comprehensive list of all restaurants in every city in Turkey, complete with detailed information such as their address, budget, cuisine offerings, and most importantly, the URLs leading to their respective pages on Yemeksepeti.\n",
    "\n",
    "To accomplish this task, we will send a specific request to Yemeksepeti's database and parse the response into a JSON format. This will enable us to efficiently organize and explore the gathered information, providing valuable insights"
   ]
  },
  {
   "cell_type": "code",
   "execution_count": null,
   "metadata": {},
   "outputs": [],
   "source": [
    "# get detailed data for all restaurants in a city and return its content\n",
    "def get_restaurants_data_for_city(city_id):\n",
    "    # Yemeksepeti uses the Delivery Hero servers to store it's data, hence we can get restaurant's data by sending a request to delivery hero\n",
    "    # the arguments ...&offset=0&limit=500&... can be added to the url to specify the data request size\n",
    "    yemeksepeti_request_url = f\"https://disco.deliveryhero.io/listing/api/v1/pandora/vendors?language_id=2&vertical=restaurants&country=tr&include=characteristics&configuration=Variant1&sort=&city_id={city_id}\"\n",
    "    \n",
    "    # the headers are acquired from the requests from yemeksepeti's webpage\n",
    "    # perseus-client-id and perseus-seesion-id might needed be updated occasionally\n",
    "    headers = {\n",
    "    'accept': 'application/json, text/plain, */*',\n",
    "    'accept-encoding': 'gzip, deflate, br',\n",
    "    'accept-language': 'en-US,en;q=0.9',\n",
    "    'dnt': '1',\n",
    "    'origin': 'https://www.yemeksepeti.com',\n",
    "    'perseus-client-id': '1683402284518.770138949646337300.d4t6e4b8h2',\n",
    "    'perseus-session-id': '1686229407319.641123708405837200.lsjp7m4zlk', #'perseus-session-id': '1686226160511.373585736230385800.r7egjnpz9u',\n",
    "    'referer': 'https://www.yemeksepeti.com/',\n",
    "    'user-agent': 'Mozilla/5.0 (Macintosh; Intel Mac OS X 10_15_7) AppleWebKit/537.36 (KHTML, like Gecko) Chrome/113.0.0.0 Safari/537.36',\n",
    "    'x-disco-client-id': 'web',\n",
    "    'x-fp-api-key': 'volo '\n",
    "    }\n",
    "\n",
    "    # send the request and store the response\n",
    "    response = requests.get(yemeksepeti_request_url, headers=headers)\n",
    "    \n",
    "    return response\n"
   ]
  },
  {
   "cell_type": "code",
   "execution_count": null,
   "metadata": {},
   "outputs": [],
   "source": [
    "# A list of all cities in turkey with their index - 1 corresponding to the city's id (il kodu)\n",
    "# e.g. cities[33] == cities[34 - 1] == \"Istanbul\" \n",
    "\n",
    "cities = [\"Adana\", \"Adıyaman\", \"Afyon\", \"Ağrı\", \"Amasya\", \"Ankara\", \"Antalya\", \"Artvin\", \"Aydın\", \"Balıkesir\", \"Bilecik\", \"Bingöl\", \"Bitlis\", \"Bolu\", \"Burdur\", \"Bursa\", \"Çanakkale\", \"Çankırı\", \"Çorum\", \"Denizli\", \"Diyarbakır\", \"Edirne\", \"Elazığ\", \"Erzincan\", \"Erzurum\", \"Eskişehir\", \"Gaziantep\", \"Giresun\", \"Gümüşhane\", \"Hakkari\", \"Hatay\", \"Isparta\", \"İçel (Mersin)\", \"İstanbul\", \"İzmir\", \"Kars\", \"Kastamonu\", \"Kayseri\", \"Kırklareli\", \"Kırşehir\", \"Kocaeli\", \"Konya\", \"Kütahya\", \"Malatya\", \"Manisa\", \"Kahramanmaraş\", \"Mardin\", \"Muğla\", \"Muş\", \"Nevşehir\", \"Niğde\", \"Ordu\", \"Rize\", \"Sakarya\", \"Samsun\", \"Siirt\", \"Sinop\", \"Sivas\", \"Tekirdağ\", \"Tokat\", \"Trabzon\", \"Tunceli\", \"Şanlıurfa\", \"Uşak\", \"Van\", \"Yozgat\", \"Zonguldak\", \"Aksaray\", \"Bayburt\", \"Karaman\", \"Kırıkkale\", \"Batman\", \"Şırnak\", \"Bartın\", \"Ardahan\", \"Iğdır\", \"Yalova\", \"Karabük\", \"Kilis\", \"Osmaniye\", \"Düzce\"]"
   ]
  },
  {
   "cell_type": "code",
   "execution_count": null,
   "metadata": {},
   "outputs": [],
   "source": [
    "# Save the data of restaurants in all cities as seperate json files\n",
    "def save_restaurants_data_json():\n",
    "    restaurants_data_files_list = os.listdir(RESTAURANT_LIST_DIR)\n",
    "\n",
    "    for city_id, city_name in enumerate(cities):\n",
    "        filename = f'{city_id + 1}_yemeksepeti_{city_name}_restaurants_data.json'\n",
    "\n",
    "        # check for missing cities\n",
    "        if (filename not in restaurants_data_files_list):\n",
    "            # Fetch the data for a specific city\n",
    "            print(f'({city_id+1} / {len(cities)}) Fetching the data for {city_name} restaurants:')\n",
    "            restaurants_data = get_restaurants_data_for_city(city_id + 1)\n",
    "\n",
    "            # save the response data as json\n",
    "            print(\"saving the json data...\")\n",
    "            DATA_EXPORT_DIR = RESTAURANT_LIST_DIR + filename\n",
    "            with open(DATA_EXPORT_DIR, 'wb') as of:\n",
    "                of.write(restaurants_data.content)\n",
    "\n",
    "            print(f\"succefully exported the data. path: `{DATA_EXPORT_DIR}`\\n\")"
   ]
  },
  {
   "cell_type": "code",
   "execution_count": null,
   "metadata": {},
   "outputs": [],
   "source": [
    "save_restaurants_data_json()"
   ]
  },
  {
   "attachments": {},
   "cell_type": "markdown",
   "metadata": {},
   "source": [
    "## Restaurant Reviews Compilation\n",
    "With our comprehensive inventory of restaurants across all cities in Turkey in hand, we now turn our attention to capturing the customer's experience through customer reviews. \n",
    "\n",
    "In this section, our aim is to collect the data using proper api's and store these valuable reviews in JSON format."
   ]
  },
  {
   "cell_type": "code",
   "execution_count": null,
   "metadata": {},
   "outputs": [],
   "source": [
    "# grequests is used to get the responses asynchronously since the data is too large\n",
    " \n",
    "def get_restaurant_reviews(restaurant_code):\n",
    "    restaurant_ratings_request_url = f\"https://reviews-api-tr.fd-api.com/reviews/vendor/{restaurant_code}?global_entity_id=YS_TR\"\n",
    "    \n",
    "    request = grequests.get(restaurant_ratings_request_url)\n",
    "    return request\n"
   ]
  },
  {
   "cell_type": "code",
   "execution_count": null,
   "metadata": {},
   "outputs": [],
   "source": [
    "def exception_handler(request, exception):\n",
    "    print(f\"Failed to fetch reviews. request: {request}\")"
   ]
  },
  {
   "cell_type": "code",
   "execution_count": null,
   "metadata": {},
   "outputs": [],
   "source": [
    "# returns a dictionary of all restaurant reviews in {'code': review_data, ...} fromat\n",
    "# screenlock = Semaphore(value=1)\n",
    "\n",
    "def get_restaurant_reviews_from_city(city_id, city_name):\n",
    "    restaurants_data_filename = f'{city_id + 1}_yemeksepeti_{city_name}_restaurants_data.json'\n",
    "    DATA_FILE_DIR = RESTAURANT_LIST_DIR + restaurants_data_filename\n",
    "    with open(DATA_FILE_DIR, 'r') as file:\n",
    "        json_data = json.load(file)\n",
    "        \n",
    "    restaurants_count = len(json_data['data']['items']) # or = json_data['data']['available_count']\n",
    "    print(f\"Fetching reviews from {restaurants_count} restaurants in {city_name}.\", flush=True)\n",
    "\n",
    "    # all of reviews are stored as {'code': review_data, ...} in the dictionary below\n",
    "    reviews_collection = {}\n",
    "    requests = []\n",
    "    restaurant_codes = []\n",
    "    for restaurant in json_data['data']['items']:\n",
    "        # restaurant_url = restaurant['redirection_url']\n",
    "        restaurant_code = restaurant['code']\n",
    "        requests.append(get_restaurant_reviews(restaurant_code))\n",
    "        restaurant_codes.append(restaurant_code)\n",
    "\n",
    "    responses = grequests.map(requests, exception_handler=exception_handler)\n",
    "\n",
    "    for response, restaurant_code in zip(responses, restaurant_codes):\n",
    "        if response is not None and response.status_code == 200:\n",
    "            reviews_collection[restaurant_code] = response.json()\n",
    "\n",
    "    return reviews_collection"
   ]
  },
  {
   "cell_type": "code",
   "execution_count": null,
   "metadata": {},
   "outputs": [],
   "source": [
    "# Save the costumer reviews for all resturants in every cities as seperate json files\n",
    "def save_costuemr_reviews_json():\n",
    "    review_file_list = os.listdir(REVIEWS_COLLECTION_DIR)\n",
    "    for city_id, city_name in enumerate(cities):\n",
    "        \n",
    "        restaurants_reviews_filename = f'{city_id + 1}_yemeksepeti_{city_name}_restaurants_reviews.json'\n",
    "\n",
    "        if restaurants_reviews_filename not in review_file_list:\n",
    "\n",
    "            reviews_collection = get_restaurant_reviews_from_city(city_id, city_name)\n",
    "\n",
    "            REVIEWS_EXPORT_DIR = REVIEWS_COLLECTION_DIR + restaurants_reviews_filename\n",
    "            with open(REVIEWS_EXPORT_DIR, \"w\") as json_file:\n",
    "                json.dump(reviews_collection, json_file)"
   ]
  },
  {
   "cell_type": "code",
   "execution_count": null,
   "metadata": {},
   "outputs": [],
   "source": [
    "save_costuemr_reviews_json()"
   ]
  }
 ],
 "metadata": {
  "kernelspec": {
   "display_name": "base",
   "language": "python",
   "name": "python3"
  },
  "language_info": {
   "codemirror_mode": {
    "name": "ipython",
    "version": 3
   },
   "file_extension": ".py",
   "mimetype": "text/x-python",
   "name": "python",
   "nbconvert_exporter": "python",
   "pygments_lexer": "ipython3",
   "version": "3.11.3"
  },
  "orig_nbformat": 4
 },
 "nbformat": 4,
 "nbformat_minor": 2
}
