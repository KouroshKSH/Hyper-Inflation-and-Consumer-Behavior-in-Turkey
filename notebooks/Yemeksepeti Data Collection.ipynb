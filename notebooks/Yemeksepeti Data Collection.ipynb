{
 "cells": [
  {
   "attachments": {},
   "cell_type": "markdown",
   "metadata": {},
   "source": [
    "# Yemeksepeti Data Collection\n",
    "\n",
    "This notebook aims to employ various web scraping techniques to gather data on restaurants from the popular platform \"Yemeksepeti\". The collected data will be stored in the JSON format within the designated directory named `collected_data`.\n",
    "\n",
    "The dataset will encompass a wide range of information pertaining to the restaurants, encompassing details such as their menu items, pricing, customer comments, ratings, and corresponding timestamps.\n",
    "\n",
    "Subsequently, the primary goal is to conduct semantic analysis on the acquired dataset, with the aim of gaining deeper insights into consumer behavior patterns within the context of Turkey."
   ]
  },
  {
   "cell_type": "code",
   "execution_count": 72,
   "metadata": {},
   "outputs": [],
   "source": [
    "# import libraries\n",
    "\n",
    "import requests\n",
    "import json\n",
    "import os\n"
   ]
  },
  {
   "cell_type": "code",
   "execution_count": null,
   "metadata": {},
   "outputs": [],
   "source": [
    "# directories \n",
    "\n",
    "COLLECTED_DATA_DIR = '../collected_data/'"
   ]
  },
  {
   "attachments": {},
   "cell_type": "markdown",
   "metadata": {},
   "source": [
    "## A List of Resturants in every city in Turkey \n",
    "\n",
    "In this section, our goal is to gather a comprehensive list of all restaurants in every city in Turkey, complete with detailed information such as their address, budget, cuisine offerings, and most importantly, the URLs leading to their respective pages on Yemeksepeti.\n",
    "\n",
    "To accomplish this task, we will send a specific request to Yemeksepeti's database and parse the response into a JSON format. This will enable us to efficiently organize and explore the gathered information, providing valuable insights"
   ]
  },
  {
   "cell_type": "code",
   "execution_count": 73,
   "metadata": {},
   "outputs": [],
   "source": [
    "# get the \n",
    "def get_resturants_data_for_city(city_id):\n",
    "    # Yemeksepeti uses the Delivery Hero servers to store it's data, hence we can get resturant's data by sending a request to delivery hero\n",
    "    # the arguments ...&offset=0&limit=500&... can be added to the url to specify the data request size\n",
    "    yemeksepeti_request_url = f\"https://disco.deliveryhero.io/listing/api/v1/pandora/vendors?language_id=2&vertical=restaurants&country=tr&include=characteristics&configuration=Variant1&sort=&city_id={city_id}\"\n",
    "    \n",
    "    # the headers are acquired from the requests from yemeksepeti's webpage\n",
    "    # perseus-client-id and perseus-seesion-id might needed be updated occasionally\n",
    "    headers = {\n",
    "    'accept': 'application/json, text/plain, */*',\n",
    "    'accept-encoding': 'gzip, deflate, br',\n",
    "    'accept-language': 'en-US,en;q=0.9',\n",
    "    'dnt': '1',\n",
    "    'origin': 'https://www.yemeksepeti.com',\n",
    "    'perseus-client-id': '1683402284518.770138949646337300.d4t6e4b8h2',\n",
    "    'perseus-session-id': '1686229407319.641123708405837200.lsjp7m4zlk', #'perseus-session-id': '1686226160511.373585736230385800.r7egjnpz9u',\n",
    "    'referer': 'https://www.yemeksepeti.com/',\n",
    "    'user-agent': 'Mozilla/5.0 (Macintosh; Intel Mac OS X 10_15_7) AppleWebKit/537.36 (KHTML, like Gecko) Chrome/113.0.0.0 Safari/537.36',\n",
    "    'x-disco-client-id': 'web',\n",
    "    'x-fp-api-key': 'volo '\n",
    "    }\n",
    "\n",
    "    # send the request and store the response\n",
    "    response = requests.get(yemeksepeti_request_url, headers=headers)\n",
    "    \n",
    "    return response\n"
   ]
  },
  {
   "cell_type": "code",
   "execution_count": 74,
   "metadata": {},
   "outputs": [],
   "source": [
    "# A list of all cities in turkey with their index - 1 corresponding to the city's id (il kodu)\n",
    "# e.g. cities[33] == cities[34 - 1] == \"Istanbul\" \n",
    "cities = [\"Adana\", \"Adıyaman\", \"Afyon\", \"Ağrı\", \"Amasya\", \"Ankara\", \"Antalya\", \"Artvin\", \"Aydın\", \"Balıkesir\", \"Bilecik\", \"Bingöl\", \"Bitlis\", \"Bolu\", \"Burdur\", \"Bursa\", \"Çanakkale\", \"Çankırı\", \"Çorum\", \"Denizli\", \"Diyarbakır\", \"Edirne\", \"Elazığ\", \"Erzincan\", \"Erzurum\", \"Eskişehir\", \"Gaziantep\", \"Giresun\", \"Gümüşhane\", \"Hakkari\", \"Hatay\", \"Isparta\", \"İçel (Mersin)\", \"İstanbul\", \"İzmir\", \"Kars\", \"Kastamonu\", \"Kayseri\", \"Kırklareli\", \"Kırşehir\", \"Kocaeli\", \"Konya\", \"Kütahya\", \"Malatya\", \"Manisa\", \"Kahramanmaraş\", \"Mardin\", \"Muğla\", \"Muş\", \"Nevşehir\", \"Niğde\", \"Ordu\", \"Rize\", \"Sakarya\", \"Samsun\", \"Siirt\", \"Sinop\", \"Sivas\", \"Tekirdağ\", \"Tokat\", \"Trabzon\", \"Tunceli\", \"Şanlıurfa\", \"Uşak\", \"Van\", \"Yozgat\", \"Zonguldak\", \"Aksaray\", \"Bayburt\", \"Karaman\", \"Kırıkkale\", \"Batman\", \"Şırnak\", \"Bartın\", \"Ardahan\", \"Iğdır\", \"Yalova\", \"Karabük\", \"Kilis\", \"Osmaniye\", \"Düzce\"]"
   ]
  },
  {
   "cell_type": "code",
   "execution_count": 77,
   "metadata": {},
   "outputs": [
    {
     "name": "stdout",
     "output_type": "stream",
     "text": [
      "Finished.\n"
     ]
    }
   ],
   "source": [
    "file_list = os.listdir(COLLECTED_DATA_DIR)\n",
    "\n",
    "# Save the data of resturants in all cities as seperate json files\n",
    "for city_id, city_name in enumerate(cities):\n",
    "    filename = f'{city_id + 1}_yemeksepeti_{city_name}_resturants_data.json'\n",
    "\n",
    "    # check for missing cities\n",
    "    if (filename not in file_list):\n",
    "        # Fetch the data for a specific city\n",
    "        print(f'({city_id+1} / {len(cities)}) Fetching the data for {city_name} resturants:')\n",
    "        resturants_data = get_resturants_data_for_city(city_id + 1)\n",
    "\n",
    "        # save the response data as json\n",
    "        print(\"saving the json data...\")\n",
    "        data_export_directory = COLLECTED_DATA_DIR + filename\n",
    "        with open(data_export_directory, 'wb') as of:\n",
    "            of.write(resturants_data.content)\n",
    "\n",
    "        print(f\"succefully exported the data. path: `{data_export_directory}`\\n\")\n",
    "\n",
    "print(\"Finished.\")"
   ]
  }
 ],
 "metadata": {
  "kernelspec": {
   "display_name": "base",
   "language": "python",
   "name": "python3"
  },
  "language_info": {
   "codemirror_mode": {
    "name": "ipython",
    "version": 3
   },
   "file_extension": ".py",
   "mimetype": "text/x-python",
   "name": "python",
   "nbconvert_exporter": "python",
   "pygments_lexer": "ipython3",
   "version": "3.10.8"
  },
  "orig_nbformat": 4
 },
 "nbformat": 4,
 "nbformat_minor": 2
}
