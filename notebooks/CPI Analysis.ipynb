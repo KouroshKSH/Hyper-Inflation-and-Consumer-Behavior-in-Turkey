{
 "cells":[
  {
   "cell_type":"markdown",
   "source":[
    "# Total CPI Index"
   ],
   "attachments":{
    
   },
   "metadata":{
    "datalore":{
     "node_id":"Total CPI Index",
     "type":"MD",
     "hide_input_from_viewers":false,
     "hide_output_from_viewers":false,
     "sheet_delimiter":true
    }
   }
  },
  {
   "cell_type":"markdown",
   "source":[
    "# CPI Time Series Analysis\n",
    "If your aim is to perform time series analysis on the data in your Jupyter notebook, it is generally recommended to convert the Excel file to a CSV (Comma-Separated Values) format for ease of use and compatibility with data analysis libraries in Python.\n",
    "\n",
    "Here are a few reasons why converting the file to CSV is beneficial:\n",
    "\n",
    "1. Simplified Data Format: CSV files have a simple structure where each row represents a data record, and the values are separated by commas. This format is easier to work with in Python and can be easily loaded into pandas DataFrames for analysis.\n",
    "\n",
    "2. Compatibility: Many data analysis libraries in Python, such as pandas and NumPy, have built-in support for reading and manipulating CSV files. These libraries provide a wide range of functionalities for time series analysis and data manipulation.\n",
    "\n",
    "3. Reduced File Size: CSV files are generally smaller in size compared to Excel files. By converting the file to CSV, you can potentially reduce the file size, making it easier to handle and load into memory.\n",
    "\n",
    "To convert your Excel file (.xls) to CSV, you can follow these steps:\n",
    "\n",
    "1. Open the Excel file using Microsoft Excel or a similar spreadsheet software.\n",
    "2. Go to the \"File\" menu and choose \"Save As\" or \"Export.\"\n",
    "3. Select \"CSV (Comma delimited)\" or \"CSV (Comma Separated Values)\" as the file format.\n",
    "4. Choose a suitable location to save the CSV file and provide a file name.\n",
    "5. Click \"Save\" to convert and save the file as CSV.\n",
    "\n",
    "Once you have the CSV file, you can use pandas to read it into a DataFrame and perform time series analysis on the data in your Jupyter notebook."
   ],
   "attachments":{
    
   },
   "metadata":{
    "datalore":{
     "node_id":"8DvrZqcW5sRSUNXvsxKE3d",
     "type":"MD",
     "hide_input_from_viewers":true,
     "hide_output_from_viewers":true
    }
   }
  },
  {
   "cell_type":"code",
   "source":[
    "# Import necessary libraries\n",
    "import pandas as pd\n",
    "import numpy as np\n",
    "import matplotlib.pyplot as plt\n",
    "%matplotlib inline\n",
    "from statsmodels.tsa.seasonal import seasonal_decompose\n",
    "from statsmodels.graphics.tsaplots import plot_acf, plot_pacf\n",
    "from statsmodels.tsa.stattools import adfuller\n",
    "from statsmodels.tsa.arima.model import ARIMA\n",
    "from sklearn.metrics import mean_squared_error"
   ],
   "execution_count":41,
   "outputs":[
    
   ],
   "metadata":{
    "datalore":{
     "node_id":"aA6zqVT8MWIntelUfpQcE6",
     "type":"CODE",
     "hide_input_from_viewers":true,
     "hide_output_from_viewers":true
    }
   }
  },
  {
   "cell_type":"markdown",
   "source":[
    "# Reading the Data"
   ],
   "attachments":{
    
   },
   "metadata":{
    "datalore":{
     "node_id":"61rkk2c6SMcTbWCt8JNIKs",
     "type":"MD",
     "hide_input_from_viewers":true,
     "hide_output_from_viewers":true
    }
   }
  },
  {
   "cell_type":"code",
   "source":[
    "# Read the original data\n",
    "data = pd.read_csv(\"CPI_2005-2023.csv\")"
   ],
   "execution_count":2,
   "outputs":[
    
   ],
   "metadata":{
    "datalore":{
     "node_id":"hodq9xBjS79zoAHbhUL96c",
     "type":"CODE",
     "hide_input_from_viewers":true,
     "hide_output_from_viewers":true
    }
   }
  },
  {
   "cell_type":"code",
   "source":[
    "# See the first 10 rows\n",
    "data.head(10)"
   ],
   "execution_count":3,
   "outputs":[
    {
     "data":{
      "text\/html":[
       "<div>\n",
       "<style scoped>\n",
       "    .dataframe tbody tr th:only-of-type {\n",
       "        vertical-align: middle;\n",
       "    }\n",
       "\n",
       "    .dataframe tbody tr th {\n",
       "        vertical-align: top;\n",
       "    }\n",
       "\n",
       "    .dataframe thead th {\n",
       "        text-align: right;\n",
       "    }\n",
       "<\/style>\n",
       "<table border=\"1\" class=\"dataframe\">\n",
       "  <thead>\n",
       "    <tr style=\"text-align: right;\">\n",
       "      <th><\/th>\n",
       "      <th>Tüketici fiyat endeksi ve değişim oranları, 2005-2023<\/th>\n",
       "      <th>Unnamed: 1<\/th>\n",
       "      <th>Unnamed: 2<\/th>\n",
       "      <th>Unnamed: 3<\/th>\n",
       "      <th>Unnamed: 4<\/th>\n",
       "      <th>Unnamed: 5<\/th>\n",
       "      <th>Unnamed: 6<\/th>\n",
       "      <th>Unnamed: 7<\/th>\n",
       "      <th>Unnamed: 8<\/th>\n",
       "      <th>Unnamed: 9<\/th>\n",
       "      <th>Unnamed: 10<\/th>\n",
       "      <th>Unnamed: 11<\/th>\n",
       "      <th>Unnamed: 12<\/th>\n",
       "    <\/tr>\n",
       "  <\/thead>\n",
       "  <tbody>\n",
       "    <tr>\n",
       "      <th>0<\/th>\n",
       "      <td>Index numbers and rate of changes in the consu...<\/td>\n",
       "      <td>NaN<\/td>\n",
       "      <td>NaN<\/td>\n",
       "      <td>NaN<\/td>\n",
       "      <td>NaN<\/td>\n",
       "      <td>NaN<\/td>\n",
       "      <td>NaN<\/td>\n",
       "      <td>NaN<\/td>\n",
       "      <td>NaN<\/td>\n",
       "      <td>NaN<\/td>\n",
       "      <td>NaN<\/td>\n",
       "      <td>NaN<\/td>\n",
       "      <td>NaN<\/td>\n",
       "    <\/tr>\n",
       "    <tr>\n",
       "      <th>1<\/th>\n",
       "      <td>[2003=100]<\/td>\n",
       "      <td>NaN<\/td>\n",
       "      <td>NaN<\/td>\n",
       "      <td>NaN<\/td>\n",
       "      <td>NaN<\/td>\n",
       "      <td>NaN<\/td>\n",
       "      <td>NaN<\/td>\n",
       "      <td>NaN<\/td>\n",
       "      <td>NaN<\/td>\n",
       "      <td>NaN<\/td>\n",
       "      <td>NaN<\/td>\n",
       "      <td>NaN<\/td>\n",
       "      <td>NaN<\/td>\n",
       "    <\/tr>\n",
       "    <tr>\n",
       "      <th>2<\/th>\n",
       "      <td>Yıl<\/td>\n",
       "      <td>Ocak<\/td>\n",
       "      <td>Şubat<\/td>\n",
       "      <td>Mart<\/td>\n",
       "      <td>Nisan<\/td>\n",
       "      <td>Mayıs<\/td>\n",
       "      <td>Haziran<\/td>\n",
       "      <td>Temmuz<\/td>\n",
       "      <td>Ağustos<\/td>\n",
       "      <td>Eylül<\/td>\n",
       "      <td>Ekim<\/td>\n",
       "      <td>Kasım<\/td>\n",
       "      <td>Aralık<\/td>\n",
       "    <\/tr>\n",
       "    <tr>\n",
       "      <th>3<\/th>\n",
       "      <td>Year<\/td>\n",
       "      <td>January<\/td>\n",
       "      <td>February<\/td>\n",
       "      <td>March<\/td>\n",
       "      <td>April<\/td>\n",
       "      <td>May<\/td>\n",
       "      <td>June<\/td>\n",
       "      <td>July<\/td>\n",
       "      <td>August<\/td>\n",
       "      <td>September<\/td>\n",
       "      <td>October<\/td>\n",
       "      <td>November<\/td>\n",
       "      <td>December<\/td>\n",
       "    <\/tr>\n",
       "    <tr>\n",
       "      <th>4<\/th>\n",
       "      <td>NaN<\/td>\n",
       "      <td>Endeks - Index<\/td>\n",
       "      <td>NaN<\/td>\n",
       "      <td>NaN<\/td>\n",
       "      <td>NaN<\/td>\n",
       "      <td>NaN<\/td>\n",
       "      <td>NaN<\/td>\n",
       "      <td>NaN<\/td>\n",
       "      <td>NaN<\/td>\n",
       "      <td>NaN<\/td>\n",
       "      <td>NaN<\/td>\n",
       "      <td>NaN<\/td>\n",
       "      <td>NaN<\/td>\n",
       "    <\/tr>\n",
       "    <tr>\n",
       "      <th>5<\/th>\n",
       "      <td>2005<\/td>\n",
       "      <td>114.49<\/td>\n",
       "      <td>114.51<\/td>\n",
       "      <td>114.81<\/td>\n",
       "      <td>115.63<\/td>\n",
       "      <td>116.69<\/td>\n",
       "      <td>116.81<\/td>\n",
       "      <td>116.14<\/td>\n",
       "      <td>117.13<\/td>\n",
       "      <td>118.33<\/td>\n",
       "      <td>120.45<\/td>\n",
       "      <td>122.14<\/td>\n",
       "      <td>122.65<\/td>\n",
       "    <\/tr>\n",
       "    <tr>\n",
       "      <th>6<\/th>\n",
       "      <td>2006<\/td>\n",
       "      <td>123.57<\/td>\n",
       "      <td>123.84<\/td>\n",
       "      <td>124.18<\/td>\n",
       "      <td>125.84<\/td>\n",
       "      <td>128.20<\/td>\n",
       "      <td>128.63<\/td>\n",
       "      <td>129.72<\/td>\n",
       "      <td>129.15<\/td>\n",
       "      <td>130.81<\/td>\n",
       "      <td>132.47<\/td>\n",
       "      <td>134.18<\/td>\n",
       "      <td>134.49<\/td>\n",
       "    <\/tr>\n",
       "    <tr>\n",
       "      <th>7<\/th>\n",
       "      <td>2007<\/td>\n",
       "      <td>135.84<\/td>\n",
       "      <td>136.42<\/td>\n",
       "      <td>137.67<\/td>\n",
       "      <td>139.33<\/td>\n",
       "      <td>140.03<\/td>\n",
       "      <td>139.69<\/td>\n",
       "      <td>138.67<\/td>\n",
       "      <td>138.70<\/td>\n",
       "      <td>140.13<\/td>\n",
       "      <td>142.67<\/td>\n",
       "      <td>145.45<\/td>\n",
       "      <td>145.77<\/td>\n",
       "    <\/tr>\n",
       "    <tr>\n",
       "      <th>8<\/th>\n",
       "      <td>2008<\/td>\n",
       "      <td>146.94<\/td>\n",
       "      <td>148.84<\/td>\n",
       "      <td>150.27<\/td>\n",
       "      <td>152.79<\/td>\n",
       "      <td>155.07<\/td>\n",
       "      <td>154.51<\/td>\n",
       "      <td>155.40<\/td>\n",
       "      <td>155.02<\/td>\n",
       "      <td>155.72<\/td>\n",
       "      <td>159.77<\/td>\n",
       "      <td>161.10<\/td>\n",
       "      <td>160.44<\/td>\n",
       "    <\/tr>\n",
       "    <tr>\n",
       "      <th>9<\/th>\n",
       "      <td>2009<\/td>\n",
       "      <td>160.90<\/td>\n",
       "      <td>160.35<\/td>\n",
       "      <td>162.12<\/td>\n",
       "      <td>162.15<\/td>\n",
       "      <td>163.19<\/td>\n",
       "      <td>163.37<\/td>\n",
       "      <td>163.78<\/td>\n",
       "      <td>163.29<\/td>\n",
       "      <td>163.93<\/td>\n",
       "      <td>167.88<\/td>\n",
       "      <td>170.01<\/td>\n",
       "      <td>170.91<\/td>\n",
       "    <\/tr>\n",
       "  <\/tbody>\n",
       "<\/table>\n",
       "<\/div>"
      ]
     },
     "metadata":{
      
     },
     "output_type":"display_data"
    }
   ],
   "metadata":{
    "datalore":{
     "node_id":"m8LO3PZduGxuuWU7IOLh0Z",
     "type":"CODE",
     "hide_input_from_viewers":true,
     "hide_output_from_viewers":true
    }
   }
  },
  {
   "cell_type":"markdown",
   "source":[
    "# Data Cleaning"
   ],
   "attachments":{
    
   },
   "metadata":{
    "datalore":{
     "node_id":"NT4k7cTJ0JGDhCuryR7QMC",
     "type":"MD",
     "hide_input_from_viewers":true,
     "hide_output_from_viewers":true
    }
   }
  },
  {
   "cell_type":"code",
   "source":[
    "# Remove the unnecessary first rows\n",
    "data = data.iloc[3:]\n",
    "\n",
    "# Reset the index of the DataFrame\n",
    "data = data.reset_index(drop=True)"
   ],
   "execution_count":4,
   "outputs":[
    
   ],
   "metadata":{
    "datalore":{
     "node_id":"i8C39OJn6jD5abFHTefIPz",
     "type":"CODE",
     "hide_input_from_viewers":true,
     "hide_output_from_viewers":true
    }
   }
  },
  {
   "cell_type":"code",
   "source":[
    "data.head()"
   ],
   "execution_count":5,
   "outputs":[
    {
     "data":{
      "text\/html":[
       "<div>\n",
       "<style scoped>\n",
       "    .dataframe tbody tr th:only-of-type {\n",
       "        vertical-align: middle;\n",
       "    }\n",
       "\n",
       "    .dataframe tbody tr th {\n",
       "        vertical-align: top;\n",
       "    }\n",
       "\n",
       "    .dataframe thead th {\n",
       "        text-align: right;\n",
       "    }\n",
       "<\/style>\n",
       "<table border=\"1\" class=\"dataframe\">\n",
       "  <thead>\n",
       "    <tr style=\"text-align: right;\">\n",
       "      <th><\/th>\n",
       "      <th>Tüketici fiyat endeksi ve değişim oranları, 2005-2023<\/th>\n",
       "      <th>Unnamed: 1<\/th>\n",
       "      <th>Unnamed: 2<\/th>\n",
       "      <th>Unnamed: 3<\/th>\n",
       "      <th>Unnamed: 4<\/th>\n",
       "      <th>Unnamed: 5<\/th>\n",
       "      <th>Unnamed: 6<\/th>\n",
       "      <th>Unnamed: 7<\/th>\n",
       "      <th>Unnamed: 8<\/th>\n",
       "      <th>Unnamed: 9<\/th>\n",
       "      <th>Unnamed: 10<\/th>\n",
       "      <th>Unnamed: 11<\/th>\n",
       "      <th>Unnamed: 12<\/th>\n",
       "    <\/tr>\n",
       "  <\/thead>\n",
       "  <tbody>\n",
       "    <tr>\n",
       "      <th>0<\/th>\n",
       "      <td>Year<\/td>\n",
       "      <td>January<\/td>\n",
       "      <td>February<\/td>\n",
       "      <td>March<\/td>\n",
       "      <td>April<\/td>\n",
       "      <td>May<\/td>\n",
       "      <td>June<\/td>\n",
       "      <td>July<\/td>\n",
       "      <td>August<\/td>\n",
       "      <td>September<\/td>\n",
       "      <td>October<\/td>\n",
       "      <td>November<\/td>\n",
       "      <td>December<\/td>\n",
       "    <\/tr>\n",
       "    <tr>\n",
       "      <th>1<\/th>\n",
       "      <td>NaN<\/td>\n",
       "      <td>Endeks - Index<\/td>\n",
       "      <td>NaN<\/td>\n",
       "      <td>NaN<\/td>\n",
       "      <td>NaN<\/td>\n",
       "      <td>NaN<\/td>\n",
       "      <td>NaN<\/td>\n",
       "      <td>NaN<\/td>\n",
       "      <td>NaN<\/td>\n",
       "      <td>NaN<\/td>\n",
       "      <td>NaN<\/td>\n",
       "      <td>NaN<\/td>\n",
       "      <td>NaN<\/td>\n",
       "    <\/tr>\n",
       "    <tr>\n",
       "      <th>2<\/th>\n",
       "      <td>2005<\/td>\n",
       "      <td>114.49<\/td>\n",
       "      <td>114.51<\/td>\n",
       "      <td>114.81<\/td>\n",
       "      <td>115.63<\/td>\n",
       "      <td>116.69<\/td>\n",
       "      <td>116.81<\/td>\n",
       "      <td>116.14<\/td>\n",
       "      <td>117.13<\/td>\n",
       "      <td>118.33<\/td>\n",
       "      <td>120.45<\/td>\n",
       "      <td>122.14<\/td>\n",
       "      <td>122.65<\/td>\n",
       "    <\/tr>\n",
       "    <tr>\n",
       "      <th>3<\/th>\n",
       "      <td>2006<\/td>\n",
       "      <td>123.57<\/td>\n",
       "      <td>123.84<\/td>\n",
       "      <td>124.18<\/td>\n",
       "      <td>125.84<\/td>\n",
       "      <td>128.20<\/td>\n",
       "      <td>128.63<\/td>\n",
       "      <td>129.72<\/td>\n",
       "      <td>129.15<\/td>\n",
       "      <td>130.81<\/td>\n",
       "      <td>132.47<\/td>\n",
       "      <td>134.18<\/td>\n",
       "      <td>134.49<\/td>\n",
       "    <\/tr>\n",
       "    <tr>\n",
       "      <th>4<\/th>\n",
       "      <td>2007<\/td>\n",
       "      <td>135.84<\/td>\n",
       "      <td>136.42<\/td>\n",
       "      <td>137.67<\/td>\n",
       "      <td>139.33<\/td>\n",
       "      <td>140.03<\/td>\n",
       "      <td>139.69<\/td>\n",
       "      <td>138.67<\/td>\n",
       "      <td>138.70<\/td>\n",
       "      <td>140.13<\/td>\n",
       "      <td>142.67<\/td>\n",
       "      <td>145.45<\/td>\n",
       "      <td>145.77<\/td>\n",
       "    <\/tr>\n",
       "  <\/tbody>\n",
       "<\/table>\n",
       "<\/div>"
      ]
     },
     "metadata":{
      
     },
     "output_type":"display_data"
    }
   ],
   "metadata":{
    "datalore":{
     "node_id":"YiURHtexTNQc7P0K6VICug",
     "type":"CODE",
     "hide_input_from_viewers":true,
     "hide_output_from_viewers":true
    }
   }
  },
  {
   "cell_type":"code",
   "source":[
    "# Remove the second row containing NaN values\n",
    "data = data.drop(1)\n",
    "\n",
    "# Reset the index of the DataFrame\n",
    "data = data.reset_index(drop=True)"
   ],
   "execution_count":6,
   "outputs":[
    
   ],
   "metadata":{
    "datalore":{
     "node_id":"AGVCK1BZjlHtISe3s6Gpbb",
     "type":"CODE",
     "hide_input_from_viewers":true,
     "hide_output_from_viewers":true
    }
   }
  },
  {
   "cell_type":"code",
   "source":[
    "data"
   ],
   "execution_count":7,
   "outputs":[
    {
     "data":{
      "text\/html":[
       "<div>\n",
       "<style scoped>\n",
       "    .dataframe tbody tr th:only-of-type {\n",
       "        vertical-align: middle;\n",
       "    }\n",
       "\n",
       "    .dataframe tbody tr th {\n",
       "        vertical-align: top;\n",
       "    }\n",
       "\n",
       "    .dataframe thead th {\n",
       "        text-align: right;\n",
       "    }\n",
       "<\/style>\n",
       "<table border=\"1\" class=\"dataframe\">\n",
       "  <thead>\n",
       "    <tr style=\"text-align: right;\">\n",
       "      <th><\/th>\n",
       "      <th>Tüketici fiyat endeksi ve değişim oranları, 2005-2023<\/th>\n",
       "      <th>Unnamed: 1<\/th>\n",
       "      <th>Unnamed: 2<\/th>\n",
       "      <th>Unnamed: 3<\/th>\n",
       "      <th>Unnamed: 4<\/th>\n",
       "      <th>Unnamed: 5<\/th>\n",
       "      <th>Unnamed: 6<\/th>\n",
       "      <th>Unnamed: 7<\/th>\n",
       "      <th>Unnamed: 8<\/th>\n",
       "      <th>Unnamed: 9<\/th>\n",
       "      <th>Unnamed: 10<\/th>\n",
       "      <th>Unnamed: 11<\/th>\n",
       "      <th>Unnamed: 12<\/th>\n",
       "    <\/tr>\n",
       "  <\/thead>\n",
       "  <tbody>\n",
       "    <tr>\n",
       "      <th>0<\/th>\n",
       "      <td>Year<\/td>\n",
       "      <td>January<\/td>\n",
       "      <td>February<\/td>\n",
       "      <td>March<\/td>\n",
       "      <td>April<\/td>\n",
       "      <td>May<\/td>\n",
       "      <td>June<\/td>\n",
       "      <td>July<\/td>\n",
       "      <td>August<\/td>\n",
       "      <td>September<\/td>\n",
       "      <td>October<\/td>\n",
       "      <td>November<\/td>\n",
       "      <td>December<\/td>\n",
       "    <\/tr>\n",
       "    <tr>\n",
       "      <th>1<\/th>\n",
       "      <td>2005<\/td>\n",
       "      <td>114.49<\/td>\n",
       "      <td>114.51<\/td>\n",
       "      <td>114.81<\/td>\n",
       "      <td>115.63<\/td>\n",
       "      <td>116.69<\/td>\n",
       "      <td>116.81<\/td>\n",
       "      <td>116.14<\/td>\n",
       "      <td>117.13<\/td>\n",
       "      <td>118.33<\/td>\n",
       "      <td>120.45<\/td>\n",
       "      <td>122.14<\/td>\n",
       "      <td>122.65<\/td>\n",
       "    <\/tr>\n",
       "    <tr>\n",
       "      <th>2<\/th>\n",
       "      <td>2006<\/td>\n",
       "      <td>123.57<\/td>\n",
       "      <td>123.84<\/td>\n",
       "      <td>124.18<\/td>\n",
       "      <td>125.84<\/td>\n",
       "      <td>128.20<\/td>\n",
       "      <td>128.63<\/td>\n",
       "      <td>129.72<\/td>\n",
       "      <td>129.15<\/td>\n",
       "      <td>130.81<\/td>\n",
       "      <td>132.47<\/td>\n",
       "      <td>134.18<\/td>\n",
       "      <td>134.49<\/td>\n",
       "    <\/tr>\n",
       "    <tr>\n",
       "      <th>3<\/th>\n",
       "      <td>2007<\/td>\n",
       "      <td>135.84<\/td>\n",
       "      <td>136.42<\/td>\n",
       "      <td>137.67<\/td>\n",
       "      <td>139.33<\/td>\n",
       "      <td>140.03<\/td>\n",
       "      <td>139.69<\/td>\n",
       "      <td>138.67<\/td>\n",
       "      <td>138.70<\/td>\n",
       "      <td>140.13<\/td>\n",
       "      <td>142.67<\/td>\n",
       "      <td>145.45<\/td>\n",
       "      <td>145.77<\/td>\n",
       "    <\/tr>\n",
       "    <tr>\n",
       "      <th>4<\/th>\n",
       "      <td>2008<\/td>\n",
       "      <td>146.94<\/td>\n",
       "      <td>148.84<\/td>\n",
       "      <td>150.27<\/td>\n",
       "      <td>152.79<\/td>\n",
       "      <td>155.07<\/td>\n",
       "      <td>154.51<\/td>\n",
       "      <td>155.40<\/td>\n",
       "      <td>155.02<\/td>\n",
       "      <td>155.72<\/td>\n",
       "      <td>159.77<\/td>\n",
       "      <td>161.10<\/td>\n",
       "      <td>160.44<\/td>\n",
       "    <\/tr>\n",
       "    <tr>\n",
       "      <th>...<\/th>\n",
       "      <td>...<\/td>\n",
       "      <td>...<\/td>\n",
       "      <td>...<\/td>\n",
       "      <td>...<\/td>\n",
       "      <td>...<\/td>\n",
       "      <td>...<\/td>\n",
       "      <td>...<\/td>\n",
       "      <td>...<\/td>\n",
       "      <td>...<\/td>\n",
       "      <td>...<\/td>\n",
       "      <td>...<\/td>\n",
       "      <td>...<\/td>\n",
       "      <td>...<\/td>\n",
       "    <\/tr>\n",
       "    <tr>\n",
       "      <th>97<\/th>\n",
       "      <td>2021<\/td>\n",
       "      <td>12.53<\/td>\n",
       "      <td>12.81<\/td>\n",
       "      <td>13.18<\/td>\n",
       "      <td>13.70<\/td>\n",
       "      <td>14.13<\/td>\n",
       "      <td>14.55<\/td>\n",
       "      <td>15.15<\/td>\n",
       "      <td>15.78<\/td>\n",
       "      <td>16.42<\/td>\n",
       "      <td>17.09<\/td>\n",
       "      <td>17.71<\/td>\n",
       "      <td>19.60<\/td>\n",
       "    <\/tr>\n",
       "    <tr>\n",
       "      <th>98<\/th>\n",
       "      <td>2022<\/td>\n",
       "      <td>22.58<\/td>\n",
       "      <td>25.98<\/td>\n",
       "      <td>29.88<\/td>\n",
       "      <td>34.46<\/td>\n",
       "      <td>39.33<\/td>\n",
       "      <td>44.54<\/td>\n",
       "      <td>49.65<\/td>\n",
       "      <td>54.69<\/td>\n",
       "      <td>59.91<\/td>\n",
       "      <td>65.26<\/td>\n",
       "      <td>70.36<\/td>\n",
       "      <td>72.31<\/td>\n",
       "    <\/tr>\n",
       "    <tr>\n",
       "      <th>99<\/th>\n",
       "      <td>2023<\/td>\n",
       "      <td>72.45<\/td>\n",
       "      <td>71.83<\/td>\n",
       "      <td>70.20<\/td>\n",
       "      <td>67.20<\/td>\n",
       "      <td>NaN<\/td>\n",
       "      <td>NaN<\/td>\n",
       "      <td>NaN<\/td>\n",
       "      <td>NaN<\/td>\n",
       "      <td>NaN<\/td>\n",
       "      <td>NaN<\/td>\n",
       "      <td>NaN<\/td>\n",
       "      <td>NaN<\/td>\n",
       "    <\/tr>\n",
       "    <tr>\n",
       "      <th>100<\/th>\n",
       "      <td>TÜİK, Tüketici Fiyat Endeksi, Nisan 2023<\/td>\n",
       "      <td>NaN<\/td>\n",
       "      <td>NaN<\/td>\n",
       "      <td>NaN<\/td>\n",
       "      <td>NaN<\/td>\n",
       "      <td>NaN<\/td>\n",
       "      <td>NaN<\/td>\n",
       "      <td>NaN<\/td>\n",
       "      <td>NaN<\/td>\n",
       "      <td>NaN<\/td>\n",
       "      <td>NaN<\/td>\n",
       "      <td>NaN<\/td>\n",
       "      <td>NaN<\/td>\n",
       "    <\/tr>\n",
       "    <tr>\n",
       "      <th>101<\/th>\n",
       "      <td>TurkStat, Consumer Price Index, April 2023<\/td>\n",
       "      <td>NaN<\/td>\n",
       "      <td>NaN<\/td>\n",
       "      <td>NaN<\/td>\n",
       "      <td>NaN<\/td>\n",
       "      <td>NaN<\/td>\n",
       "      <td>NaN<\/td>\n",
       "      <td>NaN<\/td>\n",
       "      <td>NaN<\/td>\n",
       "      <td>NaN<\/td>\n",
       "      <td>NaN<\/td>\n",
       "      <td>NaN<\/td>\n",
       "      <td>NaN<\/td>\n",
       "    <\/tr>\n",
       "  <\/tbody>\n",
       "<\/table>\n",
       "<p>102 rows × 13 columns<\/p>\n",
       "<\/div>"
      ]
     },
     "metadata":{
      
     },
     "output_type":"display_data"
    }
   ],
   "metadata":{
    "datalore":{
     "node_id":"JSyfYJgtPprX4J8DrgvB4G",
     "type":"CODE",
     "hide_input_from_viewers":true,
     "hide_output_from_viewers":true
    }
   }
  },
  {
   "cell_type":"code",
   "source":[
    "# Get the index data only\n",
    "data = data.iloc[:20]\n",
    "\n",
    "# Reset the index of the DataFrame\n",
    "data = data.reset_index(drop=True)"
   ],
   "execution_count":8,
   "outputs":[
    
   ],
   "metadata":{
    "datalore":{
     "node_id":"t13acGHHQ8XWcUq3jisPxJ",
     "type":"CODE",
     "hide_input_from_viewers":true,
     "hide_output_from_viewers":true
    }
   }
  },
  {
   "cell_type":"code",
   "source":[
    "data"
   ],
   "execution_count":9,
   "outputs":[
    {
     "data":{
      "text\/html":[
       "<div>\n",
       "<style scoped>\n",
       "    .dataframe tbody tr th:only-of-type {\n",
       "        vertical-align: middle;\n",
       "    }\n",
       "\n",
       "    .dataframe tbody tr th {\n",
       "        vertical-align: top;\n",
       "    }\n",
       "\n",
       "    .dataframe thead th {\n",
       "        text-align: right;\n",
       "    }\n",
       "<\/style>\n",
       "<table border=\"1\" class=\"dataframe\">\n",
       "  <thead>\n",
       "    <tr style=\"text-align: right;\">\n",
       "      <th><\/th>\n",
       "      <th>Tüketici fiyat endeksi ve değişim oranları, 2005-2023<\/th>\n",
       "      <th>Unnamed: 1<\/th>\n",
       "      <th>Unnamed: 2<\/th>\n",
       "      <th>Unnamed: 3<\/th>\n",
       "      <th>Unnamed: 4<\/th>\n",
       "      <th>Unnamed: 5<\/th>\n",
       "      <th>Unnamed: 6<\/th>\n",
       "      <th>Unnamed: 7<\/th>\n",
       "      <th>Unnamed: 8<\/th>\n",
       "      <th>Unnamed: 9<\/th>\n",
       "      <th>Unnamed: 10<\/th>\n",
       "      <th>Unnamed: 11<\/th>\n",
       "      <th>Unnamed: 12<\/th>\n",
       "    <\/tr>\n",
       "  <\/thead>\n",
       "  <tbody>\n",
       "    <tr>\n",
       "      <th>0<\/th>\n",
       "      <td>Year<\/td>\n",
       "      <td>January<\/td>\n",
       "      <td>February<\/td>\n",
       "      <td>March<\/td>\n",
       "      <td>April<\/td>\n",
       "      <td>May<\/td>\n",
       "      <td>June<\/td>\n",
       "      <td>July<\/td>\n",
       "      <td>August<\/td>\n",
       "      <td>September<\/td>\n",
       "      <td>October<\/td>\n",
       "      <td>November<\/td>\n",
       "      <td>December<\/td>\n",
       "    <\/tr>\n",
       "    <tr>\n",
       "      <th>1<\/th>\n",
       "      <td>2005<\/td>\n",
       "      <td>114.49<\/td>\n",
       "      <td>114.51<\/td>\n",
       "      <td>114.81<\/td>\n",
       "      <td>115.63<\/td>\n",
       "      <td>116.69<\/td>\n",
       "      <td>116.81<\/td>\n",
       "      <td>116.14<\/td>\n",
       "      <td>117.13<\/td>\n",
       "      <td>118.33<\/td>\n",
       "      <td>120.45<\/td>\n",
       "      <td>122.14<\/td>\n",
       "      <td>122.65<\/td>\n",
       "    <\/tr>\n",
       "    <tr>\n",
       "      <th>2<\/th>\n",
       "      <td>2006<\/td>\n",
       "      <td>123.57<\/td>\n",
       "      <td>123.84<\/td>\n",
       "      <td>124.18<\/td>\n",
       "      <td>125.84<\/td>\n",
       "      <td>128.20<\/td>\n",
       "      <td>128.63<\/td>\n",
       "      <td>129.72<\/td>\n",
       "      <td>129.15<\/td>\n",
       "      <td>130.81<\/td>\n",
       "      <td>132.47<\/td>\n",
       "      <td>134.18<\/td>\n",
       "      <td>134.49<\/td>\n",
       "    <\/tr>\n",
       "    <tr>\n",
       "      <th>3<\/th>\n",
       "      <td>2007<\/td>\n",
       "      <td>135.84<\/td>\n",
       "      <td>136.42<\/td>\n",
       "      <td>137.67<\/td>\n",
       "      <td>139.33<\/td>\n",
       "      <td>140.03<\/td>\n",
       "      <td>139.69<\/td>\n",
       "      <td>138.67<\/td>\n",
       "      <td>138.70<\/td>\n",
       "      <td>140.13<\/td>\n",
       "      <td>142.67<\/td>\n",
       "      <td>145.45<\/td>\n",
       "      <td>145.77<\/td>\n",
       "    <\/tr>\n",
       "    <tr>\n",
       "      <th>4<\/th>\n",
       "      <td>2008<\/td>\n",
       "      <td>146.94<\/td>\n",
       "      <td>148.84<\/td>\n",
       "      <td>150.27<\/td>\n",
       "      <td>152.79<\/td>\n",
       "      <td>155.07<\/td>\n",
       "      <td>154.51<\/td>\n",
       "      <td>155.40<\/td>\n",
       "      <td>155.02<\/td>\n",
       "      <td>155.72<\/td>\n",
       "      <td>159.77<\/td>\n",
       "      <td>161.10<\/td>\n",
       "      <td>160.44<\/td>\n",
       "    <\/tr>\n",
       "    <tr>\n",
       "      <th>5<\/th>\n",
       "      <td>2009<\/td>\n",
       "      <td>160.90<\/td>\n",
       "      <td>160.35<\/td>\n",
       "      <td>162.12<\/td>\n",
       "      <td>162.15<\/td>\n",
       "      <td>163.19<\/td>\n",
       "      <td>163.37<\/td>\n",
       "      <td>163.78<\/td>\n",
       "      <td>163.29<\/td>\n",
       "      <td>163.93<\/td>\n",
       "      <td>167.88<\/td>\n",
       "      <td>170.01<\/td>\n",
       "      <td>170.91<\/td>\n",
       "    <\/tr>\n",
       "    <tr>\n",
       "      <th>6<\/th>\n",
       "      <td>2010<\/td>\n",
       "      <td>174.07<\/td>\n",
       "      <td>176.59<\/td>\n",
       "      <td>177.62<\/td>\n",
       "      <td>178.68<\/td>\n",
       "      <td>178.04<\/td>\n",
       "      <td>177.04<\/td>\n",
       "      <td>176.19<\/td>\n",
       "      <td>176.90<\/td>\n",
       "      <td>179.07<\/td>\n",
       "      <td>182.35<\/td>\n",
       "      <td>182.40<\/td>\n",
       "      <td>181.85<\/td>\n",
       "    <\/tr>\n",
       "    <tr>\n",
       "      <th>7<\/th>\n",
       "      <td>2011<\/td>\n",
       "      <td>182.60<\/td>\n",
       "      <td>183.93<\/td>\n",
       "      <td>184.70<\/td>\n",
       "      <td>186.30<\/td>\n",
       "      <td>190.81<\/td>\n",
       "      <td>188.08<\/td>\n",
       "      <td>187.31<\/td>\n",
       "      <td>188.67<\/td>\n",
       "      <td>190.09<\/td>\n",
       "      <td>196.31<\/td>\n",
       "      <td>199.70<\/td>\n",
       "      <td>200.85<\/td>\n",
       "    <\/tr>\n",
       "    <tr>\n",
       "      <th>8<\/th>\n",
       "      <td>2012<\/td>\n",
       "      <td>201.98<\/td>\n",
       "      <td>203.12<\/td>\n",
       "      <td>203.96<\/td>\n",
       "      <td>207.05<\/td>\n",
       "      <td>206.61<\/td>\n",
       "      <td>204.76<\/td>\n",
       "      <td>204.29<\/td>\n",
       "      <td>205.43<\/td>\n",
       "      <td>207.55<\/td>\n",
       "      <td>211.62<\/td>\n",
       "      <td>212.42<\/td>\n",
       "      <td>213.23<\/td>\n",
       "    <\/tr>\n",
       "    <tr>\n",
       "      <th>9<\/th>\n",
       "      <td>2013<\/td>\n",
       "      <td>216.74<\/td>\n",
       "      <td>217.39<\/td>\n",
       "      <td>218.83<\/td>\n",
       "      <td>219.75<\/td>\n",
       "      <td>220.07<\/td>\n",
       "      <td>221.75<\/td>\n",
       "      <td>222.44<\/td>\n",
       "      <td>222.21<\/td>\n",
       "      <td>223.91<\/td>\n",
       "      <td>227.94<\/td>\n",
       "      <td>227.96<\/td>\n",
       "      <td>229.01<\/td>\n",
       "    <\/tr>\n",
       "    <tr>\n",
       "      <th>10<\/th>\n",
       "      <td>2014<\/td>\n",
       "      <td>233.54<\/td>\n",
       "      <td>234.54<\/td>\n",
       "      <td>237.18<\/td>\n",
       "      <td>240.37<\/td>\n",
       "      <td>241.32<\/td>\n",
       "      <td>242.07<\/td>\n",
       "      <td>243.17<\/td>\n",
       "      <td>243.40<\/td>\n",
       "      <td>243.74<\/td>\n",
       "      <td>248.37<\/td>\n",
       "      <td>248.82<\/td>\n",
       "      <td>247.72<\/td>\n",
       "    <\/tr>\n",
       "    <tr>\n",
       "      <th>11<\/th>\n",
       "      <td>2015<\/td>\n",
       "      <td>250.45<\/td>\n",
       "      <td>252.24<\/td>\n",
       "      <td>255.23<\/td>\n",
       "      <td>259.39<\/td>\n",
       "      <td>260.85<\/td>\n",
       "      <td>259.51<\/td>\n",
       "      <td>259.74<\/td>\n",
       "      <td>260.78<\/td>\n",
       "      <td>263.11<\/td>\n",
       "      <td>267.20<\/td>\n",
       "      <td>268.98<\/td>\n",
       "      <td>269.54<\/td>\n",
       "    <\/tr>\n",
       "    <tr>\n",
       "      <th>12<\/th>\n",
       "      <td>2016<\/td>\n",
       "      <td>274.44<\/td>\n",
       "      <td>274.38<\/td>\n",
       "      <td>274.27<\/td>\n",
       "      <td>276.42<\/td>\n",
       "      <td>278.02<\/td>\n",
       "      <td>279.33<\/td>\n",
       "      <td>282.58<\/td>\n",
       "      <td>281.76<\/td>\n",
       "      <td>282.27<\/td>\n",
       "      <td>286.33<\/td>\n",
       "      <td>287.81<\/td>\n",
       "      <td>292.54<\/td>\n",
       "    <\/tr>\n",
       "    <tr>\n",
       "      <th>13<\/th>\n",
       "      <td>2017<\/td>\n",
       "      <td>299.74<\/td>\n",
       "      <td>302.17<\/td>\n",
       "      <td>305.24<\/td>\n",
       "      <td>309.23<\/td>\n",
       "      <td>310.61<\/td>\n",
       "      <td>309.78<\/td>\n",
       "      <td>310.24<\/td>\n",
       "      <td>311.85<\/td>\n",
       "      <td>313.88<\/td>\n",
       "      <td>320.40<\/td>\n",
       "      <td>325.18<\/td>\n",
       "      <td>327.41<\/td>\n",
       "    <\/tr>\n",
       "    <tr>\n",
       "      <th>14<\/th>\n",
       "      <td>2018<\/td>\n",
       "      <td>330.75<\/td>\n",
       "      <td>333.17<\/td>\n",
       "      <td>336.48<\/td>\n",
       "      <td>342.78<\/td>\n",
       "      <td>348.34<\/td>\n",
       "      <td>357.44<\/td>\n",
       "      <td>359.41<\/td>\n",
       "      <td>367.66<\/td>\n",
       "      <td>390.84<\/td>\n",
       "      <td>401.27<\/td>\n",
       "      <td>395.48<\/td>\n",
       "      <td>393.88<\/td>\n",
       "    <\/tr>\n",
       "    <tr>\n",
       "      <th>15<\/th>\n",
       "      <td>2019<\/td>\n",
       "      <td>398.07<\/td>\n",
       "      <td>398.71<\/td>\n",
       "      <td>402.81<\/td>\n",
       "      <td>409.63<\/td>\n",
       "      <td>413.52<\/td>\n",
       "      <td>413.63<\/td>\n",
       "      <td>419.24<\/td>\n",
       "      <td>422.84<\/td>\n",
       "      <td>427.04<\/td>\n",
       "      <td>435.59<\/td>\n",
       "      <td>437.25<\/td>\n",
       "      <td>440.50<\/td>\n",
       "    <\/tr>\n",
       "    <tr>\n",
       "      <th>16<\/th>\n",
       "      <td>2020<\/td>\n",
       "      <td>446.45<\/td>\n",
       "      <td>448.02<\/td>\n",
       "      <td>450.58<\/td>\n",
       "      <td>454.43<\/td>\n",
       "      <td>460.62<\/td>\n",
       "      <td>465.84<\/td>\n",
       "      <td>468.56<\/td>\n",
       "      <td>472.61<\/td>\n",
       "      <td>477.21<\/td>\n",
       "      <td>487.38<\/td>\n",
       "      <td>498.58<\/td>\n",
       "      <td>504.81<\/td>\n",
       "    <\/tr>\n",
       "    <tr>\n",
       "      <th>17<\/th>\n",
       "      <td>2021<\/td>\n",
       "      <td>513.30<\/td>\n",
       "      <td>517.96<\/td>\n",
       "      <td>523.53<\/td>\n",
       "      <td>532.32<\/td>\n",
       "      <td>537.05<\/td>\n",
       "      <td>547.48<\/td>\n",
       "      <td>557.36<\/td>\n",
       "      <td>563.60<\/td>\n",
       "      <td>570.66<\/td>\n",
       "      <td>584.32<\/td>\n",
       "      <td>604.84<\/td>\n",
       "      <td>686.95<\/td>\n",
       "    <\/tr>\n",
       "    <tr>\n",
       "      <th>18<\/th>\n",
       "      <td>2022<\/td>\n",
       "      <td>763.23<\/td>\n",
       "      <td>799.93<\/td>\n",
       "      <td>843.64<\/td>\n",
       "      <td>904.79<\/td>\n",
       "      <td>931.76<\/td>\n",
       "      <td>977.90<\/td>\n",
       "      <td>1 001.03<\/td>\n",
       "      <td>1 015.65<\/td>\n",
       "      <td>1 046.89<\/td>\n",
       "      <td>1 084.00<\/td>\n",
       "      <td>1 115.26<\/td>\n",
       "      <td>1 128.45<\/td>\n",
       "    <\/tr>\n",
       "    <tr>\n",
       "      <th>19<\/th>\n",
       "      <td>2023<\/td>\n",
       "      <td>1 203.48<\/td>\n",
       "      <td>1 241.33<\/td>\n",
       "      <td>1 269.75<\/td>\n",
       "      <td>1 300.04<\/td>\n",
       "      <td>NaN<\/td>\n",
       "      <td>NaN<\/td>\n",
       "      <td>NaN<\/td>\n",
       "      <td>NaN<\/td>\n",
       "      <td>NaN<\/td>\n",
       "      <td>NaN<\/td>\n",
       "      <td>NaN<\/td>\n",
       "      <td>NaN<\/td>\n",
       "    <\/tr>\n",
       "  <\/tbody>\n",
       "<\/table>\n",
       "<\/div>"
      ]
     },
     "metadata":{
      
     },
     "output_type":"display_data"
    }
   ],
   "metadata":{
    "datalore":{
     "node_id":"kgxihQYRsd3pl8iOQXAcJi",
     "type":"CODE",
     "hide_input_from_viewers":true,
     "hide_output_from_viewers":true
    }
   }
  },
  {
   "cell_type":"code",
   "source":[
    "data.to_csv('CPI_index_updated.csv', index=False)"
   ],
   "execution_count":16,
   "outputs":[
    
   ],
   "metadata":{
    "datalore":{
     "node_id":"G6I01J3jSra94qIG5cO0ya",
     "type":"CODE",
     "hide_input_from_viewers":true,
     "hide_output_from_viewers":true
    }
   }
  },
  {
   "cell_type":"markdown",
   "source":[
    "# More Data Cleaning\n",
    "Some manual data cleaning was performed to get rid of a few more unnecessary issues. The clean version of the dataset is called \"CPI_index_clean.csv\"."
   ],
   "attachments":{
    
   },
   "metadata":{
    "datalore":{
     "node_id":"e56VzsbDg5emBGzfOsbYHk",
     "type":"MD",
     "hide_input_from_viewers":true,
     "hide_output_from_viewers":true
    }
   }
  },
  {
   "cell_type":"code",
   "source":[
    "# Read the new data\n",
    "index_data = pd.read_csv(\"CPI_index_clean.csv\")\n",
    "\n",
    "# Show the data\n",
    "index_data"
   ],
   "execution_count":17,
   "outputs":[
    {
     "data":{
      "text\/html":[
       "<div>\n",
       "<style scoped>\n",
       "    .dataframe tbody tr th:only-of-type {\n",
       "        vertical-align: middle;\n",
       "    }\n",
       "\n",
       "    .dataframe tbody tr th {\n",
       "        vertical-align: top;\n",
       "    }\n",
       "\n",
       "    .dataframe thead th {\n",
       "        text-align: right;\n",
       "    }\n",
       "<\/style>\n",
       "<table border=\"1\" class=\"dataframe\">\n",
       "  <thead>\n",
       "    <tr style=\"text-align: right;\">\n",
       "      <th><\/th>\n",
       "      <th>Year<\/th>\n",
       "      <th>January<\/th>\n",
       "      <th>February<\/th>\n",
       "      <th>March<\/th>\n",
       "      <th>April<\/th>\n",
       "      <th>May<\/th>\n",
       "      <th>June<\/th>\n",
       "      <th>July<\/th>\n",
       "      <th>August<\/th>\n",
       "      <th>September<\/th>\n",
       "      <th>October<\/th>\n",
       "      <th>November<\/th>\n",
       "      <th>December<\/th>\n",
       "    <\/tr>\n",
       "  <\/thead>\n",
       "  <tbody>\n",
       "    <tr>\n",
       "      <th>0<\/th>\n",
       "      <td>2005<\/td>\n",
       "      <td>114.49<\/td>\n",
       "      <td>114.51<\/td>\n",
       "      <td>114.81<\/td>\n",
       "      <td>115.63<\/td>\n",
       "      <td>116.69<\/td>\n",
       "      <td>116.81<\/td>\n",
       "      <td>116.14<\/td>\n",
       "      <td>117.13<\/td>\n",
       "      <td>118.33<\/td>\n",
       "      <td>120.45<\/td>\n",
       "      <td>122.14<\/td>\n",
       "      <td>122.65<\/td>\n",
       "    <\/tr>\n",
       "    <tr>\n",
       "      <th>1<\/th>\n",
       "      <td>2006<\/td>\n",
       "      <td>123.57<\/td>\n",
       "      <td>123.84<\/td>\n",
       "      <td>124.18<\/td>\n",
       "      <td>125.84<\/td>\n",
       "      <td>128.20<\/td>\n",
       "      <td>128.63<\/td>\n",
       "      <td>129.72<\/td>\n",
       "      <td>129.15<\/td>\n",
       "      <td>130.81<\/td>\n",
       "      <td>132.47<\/td>\n",
       "      <td>134.18<\/td>\n",
       "      <td>134.49<\/td>\n",
       "    <\/tr>\n",
       "    <tr>\n",
       "      <th>2<\/th>\n",
       "      <td>2007<\/td>\n",
       "      <td>135.84<\/td>\n",
       "      <td>136.42<\/td>\n",
       "      <td>137.67<\/td>\n",
       "      <td>139.33<\/td>\n",
       "      <td>140.03<\/td>\n",
       "      <td>139.69<\/td>\n",
       "      <td>138.67<\/td>\n",
       "      <td>138.70<\/td>\n",
       "      <td>140.13<\/td>\n",
       "      <td>142.67<\/td>\n",
       "      <td>145.45<\/td>\n",
       "      <td>145.77<\/td>\n",
       "    <\/tr>\n",
       "    <tr>\n",
       "      <th>3<\/th>\n",
       "      <td>2008<\/td>\n",
       "      <td>146.94<\/td>\n",
       "      <td>148.84<\/td>\n",
       "      <td>150.27<\/td>\n",
       "      <td>152.79<\/td>\n",
       "      <td>155.07<\/td>\n",
       "      <td>154.51<\/td>\n",
       "      <td>155.40<\/td>\n",
       "      <td>155.02<\/td>\n",
       "      <td>155.72<\/td>\n",
       "      <td>159.77<\/td>\n",
       "      <td>161.10<\/td>\n",
       "      <td>160.44<\/td>\n",
       "    <\/tr>\n",
       "    <tr>\n",
       "      <th>4<\/th>\n",
       "      <td>2009<\/td>\n",
       "      <td>160.90<\/td>\n",
       "      <td>160.35<\/td>\n",
       "      <td>162.12<\/td>\n",
       "      <td>162.15<\/td>\n",
       "      <td>163.19<\/td>\n",
       "      <td>163.37<\/td>\n",
       "      <td>163.78<\/td>\n",
       "      <td>163.29<\/td>\n",
       "      <td>163.93<\/td>\n",
       "      <td>167.88<\/td>\n",
       "      <td>170.01<\/td>\n",
       "      <td>170.91<\/td>\n",
       "    <\/tr>\n",
       "    <tr>\n",
       "      <th>5<\/th>\n",
       "      <td>2010<\/td>\n",
       "      <td>174.07<\/td>\n",
       "      <td>176.59<\/td>\n",
       "      <td>177.62<\/td>\n",
       "      <td>178.68<\/td>\n",
       "      <td>178.04<\/td>\n",
       "      <td>177.04<\/td>\n",
       "      <td>176.19<\/td>\n",
       "      <td>176.90<\/td>\n",
       "      <td>179.07<\/td>\n",
       "      <td>182.35<\/td>\n",
       "      <td>182.40<\/td>\n",
       "      <td>181.85<\/td>\n",
       "    <\/tr>\n",
       "    <tr>\n",
       "      <th>6<\/th>\n",
       "      <td>2011<\/td>\n",
       "      <td>182.60<\/td>\n",
       "      <td>183.93<\/td>\n",
       "      <td>184.70<\/td>\n",
       "      <td>186.30<\/td>\n",
       "      <td>190.81<\/td>\n",
       "      <td>188.08<\/td>\n",
       "      <td>187.31<\/td>\n",
       "      <td>188.67<\/td>\n",
       "      <td>190.09<\/td>\n",
       "      <td>196.31<\/td>\n",
       "      <td>199.70<\/td>\n",
       "      <td>200.85<\/td>\n",
       "    <\/tr>\n",
       "    <tr>\n",
       "      <th>7<\/th>\n",
       "      <td>2012<\/td>\n",
       "      <td>201.98<\/td>\n",
       "      <td>203.12<\/td>\n",
       "      <td>203.96<\/td>\n",
       "      <td>207.05<\/td>\n",
       "      <td>206.61<\/td>\n",
       "      <td>204.76<\/td>\n",
       "      <td>204.29<\/td>\n",
       "      <td>205.43<\/td>\n",
       "      <td>207.55<\/td>\n",
       "      <td>211.62<\/td>\n",
       "      <td>212.42<\/td>\n",
       "      <td>213.23<\/td>\n",
       "    <\/tr>\n",
       "    <tr>\n",
       "      <th>8<\/th>\n",
       "      <td>2013<\/td>\n",
       "      <td>216.74<\/td>\n",
       "      <td>217.39<\/td>\n",
       "      <td>218.83<\/td>\n",
       "      <td>219.75<\/td>\n",
       "      <td>220.07<\/td>\n",
       "      <td>221.75<\/td>\n",
       "      <td>222.44<\/td>\n",
       "      <td>222.21<\/td>\n",
       "      <td>223.91<\/td>\n",
       "      <td>227.94<\/td>\n",
       "      <td>227.96<\/td>\n",
       "      <td>229.01<\/td>\n",
       "    <\/tr>\n",
       "    <tr>\n",
       "      <th>9<\/th>\n",
       "      <td>2014<\/td>\n",
       "      <td>233.54<\/td>\n",
       "      <td>234.54<\/td>\n",
       "      <td>237.18<\/td>\n",
       "      <td>240.37<\/td>\n",
       "      <td>241.32<\/td>\n",
       "      <td>242.07<\/td>\n",
       "      <td>243.17<\/td>\n",
       "      <td>243.40<\/td>\n",
       "      <td>243.74<\/td>\n",
       "      <td>248.37<\/td>\n",
       "      <td>248.82<\/td>\n",
       "      <td>247.72<\/td>\n",
       "    <\/tr>\n",
       "    <tr>\n",
       "      <th>10<\/th>\n",
       "      <td>2015<\/td>\n",
       "      <td>250.45<\/td>\n",
       "      <td>252.24<\/td>\n",
       "      <td>255.23<\/td>\n",
       "      <td>259.39<\/td>\n",
       "      <td>260.85<\/td>\n",
       "      <td>259.51<\/td>\n",
       "      <td>259.74<\/td>\n",
       "      <td>260.78<\/td>\n",
       "      <td>263.11<\/td>\n",
       "      <td>267.20<\/td>\n",
       "      <td>268.98<\/td>\n",
       "      <td>269.54<\/td>\n",
       "    <\/tr>\n",
       "    <tr>\n",
       "      <th>11<\/th>\n",
       "      <td>2016<\/td>\n",
       "      <td>274.44<\/td>\n",
       "      <td>274.38<\/td>\n",
       "      <td>274.27<\/td>\n",
       "      <td>276.42<\/td>\n",
       "      <td>278.02<\/td>\n",
       "      <td>279.33<\/td>\n",
       "      <td>282.58<\/td>\n",
       "      <td>281.76<\/td>\n",
       "      <td>282.27<\/td>\n",
       "      <td>286.33<\/td>\n",
       "      <td>287.81<\/td>\n",
       "      <td>292.54<\/td>\n",
       "    <\/tr>\n",
       "    <tr>\n",
       "      <th>12<\/th>\n",
       "      <td>2017<\/td>\n",
       "      <td>299.74<\/td>\n",
       "      <td>302.17<\/td>\n",
       "      <td>305.24<\/td>\n",
       "      <td>309.23<\/td>\n",
       "      <td>310.61<\/td>\n",
       "      <td>309.78<\/td>\n",
       "      <td>310.24<\/td>\n",
       "      <td>311.85<\/td>\n",
       "      <td>313.88<\/td>\n",
       "      <td>320.40<\/td>\n",
       "      <td>325.18<\/td>\n",
       "      <td>327.41<\/td>\n",
       "    <\/tr>\n",
       "    <tr>\n",
       "      <th>13<\/th>\n",
       "      <td>2018<\/td>\n",
       "      <td>330.75<\/td>\n",
       "      <td>333.17<\/td>\n",
       "      <td>336.48<\/td>\n",
       "      <td>342.78<\/td>\n",
       "      <td>348.34<\/td>\n",
       "      <td>357.44<\/td>\n",
       "      <td>359.41<\/td>\n",
       "      <td>367.66<\/td>\n",
       "      <td>390.84<\/td>\n",
       "      <td>401.27<\/td>\n",
       "      <td>395.48<\/td>\n",
       "      <td>393.88<\/td>\n",
       "    <\/tr>\n",
       "    <tr>\n",
       "      <th>14<\/th>\n",
       "      <td>2019<\/td>\n",
       "      <td>398.07<\/td>\n",
       "      <td>398.71<\/td>\n",
       "      <td>402.81<\/td>\n",
       "      <td>409.63<\/td>\n",
       "      <td>413.52<\/td>\n",
       "      <td>413.63<\/td>\n",
       "      <td>419.24<\/td>\n",
       "      <td>422.84<\/td>\n",
       "      <td>427.04<\/td>\n",
       "      <td>435.59<\/td>\n",
       "      <td>437.25<\/td>\n",
       "      <td>440.50<\/td>\n",
       "    <\/tr>\n",
       "    <tr>\n",
       "      <th>15<\/th>\n",
       "      <td>2020<\/td>\n",
       "      <td>446.45<\/td>\n",
       "      <td>448.02<\/td>\n",
       "      <td>450.58<\/td>\n",
       "      <td>454.43<\/td>\n",
       "      <td>460.62<\/td>\n",
       "      <td>465.84<\/td>\n",
       "      <td>468.56<\/td>\n",
       "      <td>472.61<\/td>\n",
       "      <td>477.21<\/td>\n",
       "      <td>487.38<\/td>\n",
       "      <td>498.58<\/td>\n",
       "      <td>504.81<\/td>\n",
       "    <\/tr>\n",
       "    <tr>\n",
       "      <th>16<\/th>\n",
       "      <td>2021<\/td>\n",
       "      <td>513.30<\/td>\n",
       "      <td>517.96<\/td>\n",
       "      <td>523.53<\/td>\n",
       "      <td>532.32<\/td>\n",
       "      <td>537.05<\/td>\n",
       "      <td>547.48<\/td>\n",
       "      <td>557.36<\/td>\n",
       "      <td>563.60<\/td>\n",
       "      <td>570.66<\/td>\n",
       "      <td>584.32<\/td>\n",
       "      <td>604.84<\/td>\n",
       "      <td>686.95<\/td>\n",
       "    <\/tr>\n",
       "    <tr>\n",
       "      <th>17<\/th>\n",
       "      <td>2022<\/td>\n",
       "      <td>763.23<\/td>\n",
       "      <td>799.93<\/td>\n",
       "      <td>843.64<\/td>\n",
       "      <td>904.79<\/td>\n",
       "      <td>931.76<\/td>\n",
       "      <td>977.90<\/td>\n",
       "      <td>1001.03<\/td>\n",
       "      <td>1015.65<\/td>\n",
       "      <td>1046.89<\/td>\n",
       "      <td>1084.00<\/td>\n",
       "      <td>1115.26<\/td>\n",
       "      <td>1128.45<\/td>\n",
       "    <\/tr>\n",
       "    <tr>\n",
       "      <th>18<\/th>\n",
       "      <td>2023<\/td>\n",
       "      <td>1203.48<\/td>\n",
       "      <td>1241.33<\/td>\n",
       "      <td>1269.75<\/td>\n",
       "      <td>1300.04<\/td>\n",
       "      <td>NaN<\/td>\n",
       "      <td>NaN<\/td>\n",
       "      <td>NaN<\/td>\n",
       "      <td>NaN<\/td>\n",
       "      <td>NaN<\/td>\n",
       "      <td>NaN<\/td>\n",
       "      <td>NaN<\/td>\n",
       "      <td>NaN<\/td>\n",
       "    <\/tr>\n",
       "  <\/tbody>\n",
       "<\/table>\n",
       "<\/div>"
      ]
     },
     "metadata":{
      
     },
     "output_type":"display_data"
    }
   ],
   "metadata":{
    "datalore":{
     "node_id":"JxVcSj1GDgRSPVYU5g2gnk",
     "type":"CODE",
     "hide_input_from_viewers":true,
     "hide_output_from_viewers":true
    }
   }
  },
  {
   "cell_type":"markdown",
   "source":[
    "# Visualization of Data"
   ],
   "attachments":{
    
   },
   "metadata":{
    "datalore":{
     "node_id":"u9iWVDRPSUsFDjNmBcYmU6",
     "type":"MD",
     "hide_input_from_viewers":true,
     "hide_output_from_viewers":true
    }
   }
  },
  {
   "cell_type":"code",
   "source":[
    "data = index_data\n",
    "\n",
    "years = data[\"Year\"]\n",
    "\n",
    "# Select all columns except the 'Year' column\n",
    "cpi_index = data.iloc[:, 1:]  \n",
    "\n",
    "# Plot the CPI index over the years\n",
    "plt.figure(figsize=(10, 6))\n",
    "plt.plot(years, cpi_index)\n",
    "plt.xlabel('Year', fontsize=14)\n",
    "plt.ylabel('CPI Index', fontsize=14)\n",
    "plt.title('Consumer Price Index 2005-2023', fontsize=16)\n",
    "plt.legend(cpi_index.columns)  # Add legends for each month\n",
    "plt.xticks(years, rotation=45, fontsize=13)\n",
    "plt.yticks(fontsize=13)\n",
    "plt.grid(True)\n",
    "plt.tight_layout()\n",
    "plt.show()"
   ],
   "execution_count":19,
   "outputs":[
    {
     "data":{
      "image\/png":"[encoded data removed]"
     },
     "metadata":{
      "image\/png":{
       
      }
     },
     "output_type":"display_data"
    }
   ],
   "metadata":{
    "datalore":{
     "node_id":"QkWEcTRN3kq07aMDqmIsNc",
     "type":"CODE",
     "hide_input_from_viewers":true,
     "hide_output_from_viewers":true
    }
   }
  },
  {
   "cell_type":"markdown",
   "source":[
    "# Time Series Analysis\n",
    "We convert the 'Year' column to datetime format. This code will read the entire dataset from the CSV file and reshape it using the melt function. The 'Year' and 'Month' columns are then combined to create a 'Date' column, which is set as the index of the DataFrame. The unnecessary columns ('Year' and 'Month') are dropped, and the data is sorted by date.\n",
    "\n",
    "The resulting `melted_data` DataFrame will have a standard time series format where each row represents a specific date, and the CPI values are in a single column."
   ],
   "attachments":{
    
   },
   "metadata":{
    "datalore":{
     "node_id":"1lnBO6zwx9yzH4a0VQhzz3",
     "type":"MD",
     "hide_input_from_viewers":true,
     "hide_output_from_viewers":true
    }
   }
  },
  {
   "cell_type":"code",
   "source":[
    "# Read the CSV file\n",
    "data = pd.read_csv('CPI_index_clean.csv')\n",
    "\n",
    "# Reshape the data using the melt function\n",
    "melted_data = pd.melt(data, id_vars='Year', var_name='Month', value_name='CPI')\n",
    "\n",
    "# Convert the 'Year' and 'Month' columns to datetime format\n",
    "melted_data['Date'] = pd.to_datetime(melted_data['Year'].astype(str) + '-' + melted_data['Month'], format='%Y-%B')\n",
    "melted_data.set_index('Date', inplace=True)\n",
    "\n",
    "# Drop the unnecessary columns\n",
    "melted_data.drop(['Year', 'Month'], axis=1, inplace=True)\n",
    "\n",
    "# Sort the data by date\n",
    "melted_data.sort_index(inplace=True)\n",
    "\n",
    "print(melted_data)"
   ],
   "execution_count":20,
   "outputs":[
    {
     "name":"stdout",
     "text":[
      "               CPI\n",
      "Date              \n",
      "2005-01-01  114.49\n",
      "2005-02-01  114.51\n",
      "2005-03-01  114.81\n",
      "2005-04-01  115.63\n",
      "2005-05-01  116.69\n",
      "...            ...\n",
      "2023-08-01     NaN\n",
      "2023-09-01     NaN\n",
      "2023-10-01     NaN\n",
      "2023-11-01     NaN\n",
      "2023-12-01     NaN\n",
      "\n",
      "[228 rows x 1 columns]\n"
     ],
     "output_type":"stream"
    }
   ],
   "metadata":{
    "datalore":{
     "node_id":"MTbXIj0mKiAWqBIShXI5aR",
     "type":"CODE",
     "hide_input_from_viewers":true,
     "hide_output_from_viewers":true
    }
   }
  },
  {
   "cell_type":"markdown",
   "source":[
    "Let's find the date where the NaN data appears first."
   ],
   "attachments":{
    
   },
   "metadata":{
    "datalore":{
     "node_id":"s3iuKvJfxmStKq3bJ2VPbw",
     "type":"MD",
     "hide_input_from_viewers":true,
     "hide_output_from_viewers":true
    }
   }
  },
  {
   "cell_type":"code",
   "source":[
    "print(melted_data[0:-7])"
   ],
   "execution_count":21,
   "outputs":[
    {
     "name":"stdout",
     "text":[
      "                CPI\n",
      "Date               \n",
      "2005-01-01   114.49\n",
      "2005-02-01   114.51\n",
      "2005-03-01   114.81\n",
      "2005-04-01   115.63\n",
      "2005-05-01   116.69\n",
      "...             ...\n",
      "2023-01-01  1203.48\n",
      "2023-02-01  1241.33\n",
      "2023-03-01  1269.75\n",
      "2023-04-01  1300.04\n",
      "2023-05-01      NaN\n",
      "\n",
      "[221 rows x 1 columns]\n"
     ],
     "output_type":"stream"
    }
   ],
   "metadata":{
    "datalore":{
     "node_id":"QNlAJiyEnZGurG5l1boig7",
     "type":"CODE",
     "hide_input_from_viewers":true,
     "hide_output_from_viewers":true
    }
   }
  },
  {
   "cell_type":"markdown",
   "source":[
    "As we can see, the first 220 rows appear to have the CPI index. Hence, we store them as our total melted data."
   ],
   "attachments":{
    
   },
   "metadata":{
    "datalore":{
     "node_id":"NPeNkINgAmNhBvXARx8s75",
     "type":"MD",
     "hide_input_from_viewers":true,
     "hide_output_from_viewers":true
    }
   }
  },
  {
   "cell_type":"code",
   "source":[
    "melted_data = melted_data[0:220]\n",
    "print(melted_data)"
   ],
   "execution_count":22,
   "outputs":[
    {
     "name":"stdout",
     "text":[
      "                CPI\n",
      "Date               \n",
      "2005-01-01   114.49\n",
      "2005-02-01   114.51\n",
      "2005-03-01   114.81\n",
      "2005-04-01   115.63\n",
      "2005-05-01   116.69\n",
      "...             ...\n",
      "2022-12-01  1128.45\n",
      "2023-01-01  1203.48\n",
      "2023-02-01  1241.33\n",
      "2023-03-01  1269.75\n",
      "2023-04-01  1300.04\n",
      "\n",
      "[220 rows x 1 columns]\n"
     ],
     "output_type":"stream"
    }
   ],
   "metadata":{
    "datalore":{
     "node_id":"VS29PwRwLWxf3WuwPdEFGT",
     "type":"CODE",
     "hide_input_from_viewers":true,
     "hide_output_from_viewers":true
    }
   }
  },
  {
   "cell_type":"markdown",
   "source":[
    "# Data Before Covid-19\n",
    "Our aim is to understand the effects of Covid-19 on the dataset. For this purpose, the data shall be divided into 2 main parts:\n",
    "1. From 2005 until September of 2019\n",
    "2. From September of 2019 until 2023 (thus far April)\n",
    "\n",
    "Visualizations can give a better understanding of the different trends and patterns before the sudden change, and then by observing the predicable sudden changes in the CPI index after the pandemic, one can get a better grasp of the changes. For this task, time series analysis can give us the results needed.\n",
    "\n",
    "## What is Time Series Analysis?\n",
    "Time series analysis involves studying and analyzing patterns, trends, and characteristics of data collected over time. There are several techniques and methods available for time series analysis, each with its own strengths and purposes. Here are some commonly used techniques:\n",
    "\n",
    "1. **Descriptive Analysis**: This involves visualizing the data, exploring summary statistics, and identifying any apparent patterns or trends. It helps in understanding the overall behavior of the time series.\n",
    "\n",
    "2. **Smoothing**: Smoothing techniques, such as Moving Averages and Exponential Smoothing, are used to remove noise and identify underlying trends or patterns in the data. They can help in understanding the long-term behavior of the time series.\n",
    "\n",
    "3. **Stationarity Analysis**: Stationarity is a key assumption in many time series models. Stationary time series have constant mean, variance, and autocovariance over time. Augmented Dickey-Fuller (ADF) test and Kwiatkowski-Phillips-Schmidt-Shin (KPSS) test are commonly used to check for stationarity.\n",
    "\n",
    "4. **Autocorrelation Analysis**: Autocorrelation measures the relationship between observations at different time points. Autocorrelation plots and autocorrelation function (ACF) can help identify significant lags and seasonal patterns in the data.\n",
    "\n",
    "5. **Time Series Decomposition**: Time series decomposition separates a time series into its trend, seasonal, and residual components. It helps in understanding the underlying patterns and seasonality. Techniques like Seasonal Decomposition of Time Series (STL) or Classical Decomposition can be used.\n",
    "\n",
    "6. **ARIMA**: Autoregressive Integrated Moving Average (ARIMA) models are widely used for time series forecasting. ARIMA models capture the autocorrelation in the data and can handle trend and seasonality. They require the data to be stationary or made stationary through differencing.\n",
    "\n",
    "7. **Exponential Smoothing**: Exponential smoothing methods, such as Simple Exponential Smoothing, Holt's Exponential Smoothing, and Holt-Winters' Exponential Smoothing, are useful for forecasting time series with trend and\/or seasonality. They assign exponentially decreasing weights to past observations.\n",
    "\n",
    "8. **Machine Learning Models**: Machine learning algorithms like Random Forests, Gradient Boosting, and Long Short-Term Memory (LSTM) networks can be used for time series forecasting. These models can capture complex patterns and nonlinear relationships but may require more data and computational resources.\n",
    "\n",
    "9. **Ensemble Methods**: Ensemble methods combine multiple forecasts from different models to improve prediction accuracy. Techniques like model averaging, weighted averaging, and stacking can be applied to enhance forecasting performance.\n",
    "\n",
    "The choice of technique depends on various factors such as the nature of the data, presence of trend and seasonality, availability of historical data, and the desired forecasting horizon. It is often recommended to try multiple methods, compare their performance using evaluation metrics, and select the one that best suits the specific requirements and provides accurate forecasts for the CPI index."
   ],
   "attachments":{
    
   },
   "metadata":{
    "datalore":{
     "node_id":"vFmYC8hPrvbf7TDo90qIN6",
     "type":"MD",
     "hide_input_from_viewers":true,
     "hide_output_from_viewers":true
    }
   }
  },
  {
   "cell_type":"markdown",
   "source":[
    "# Splitting the Data\n",
    "We set the 'Year' column as the DataFrame index. We split the data into training and test sets using the specified split point at September 2019."
   ],
   "attachments":{
    
   },
   "metadata":{
    "datalore":{
     "node_id":"HMED74pPIiRDMqRk3aDsKm",
     "type":"MD",
     "hide_input_from_viewers":true,
     "hide_output_from_viewers":true
    }
   }
  },
  {
   "cell_type":"markdown",
   "source":[
    "# Descriptive Analysis"
   ],
   "attachments":{
    
   },
   "metadata":{
    "datalore":{
     "node_id":"MQRjeVKMASNPmQ19rm5jw2",
     "type":"MD",
     "hide_input_from_viewers":true,
     "hide_output_from_viewers":true
    }
   }
  },
  {
   "cell_type":"code",
   "source":[
    "# Read the CSV file\n",
    "data = pd.read_csv('CPI_index_clean.csv')\n",
    "\n",
    "# Reshape the data using the melt function\n",
    "melted_data = pd.melt(data, id_vars='Year', var_name='Month', value_name='CPI')\n",
    "\n",
    "# Convert the 'Year' and 'Month' columns to datetime format\n",
    "melted_data['Date'] = pd.to_datetime(melted_data['Year'].astype(str) + '-' + melted_data['Month'], format='%Y-%B')\n",
    "\n",
    "# Set the 'Date' column as the DataFrame index\n",
    "melted_data.set_index('Date', inplace=True)\n",
    "\n",
    "# Drop the unnecessary columns\n",
    "melted_data.drop(['Year', 'Month'], axis=1, inplace=True)\n",
    "\n",
    "# Sort the data by date\n",
    "melted_data.sort_index(inplace=True)\n",
    "\n",
    "# Split the data into training and test sets\n",
    "train = melted_data[:'2019-09-01']\n",
    "test = melted_data['2019-09-01':'2023-04-01']\n",
    "\n",
    "# Descriptive analysis\n",
    "plt.figure(figsize=(10, 6))\n",
    "plt.plot(train.index, train['CPI'])\n",
    "plt.title('CPI Index - Descriptive Analysis', fontsize=14)\n",
    "plt.xlabel('Date', fontsize=12)\n",
    "plt.ylabel('CPI Index', fontsize=12)\n",
    "plt.tight_layout()\n",
    "plt.show()"
   ],
   "execution_count":23,
   "outputs":[
    {
     "data":{
      "image\/png":"[encoded data removed]"
     },
     "metadata":{
      "image\/png":{
       
      }
     },
     "output_type":"display_data"
    }
   ],
   "metadata":{
    "datalore":{
     "node_id":"gb1eG3vupOAbYf7yMPlel6",
     "type":"CODE",
     "hide_input_from_viewers":true,
     "hide_output_from_viewers":true
    }
   }
  },
  {
   "cell_type":"markdown",
   "source":[
    "# Smoothing (Moving Average)"
   ],
   "attachments":{
    
   },
   "metadata":{
    "datalore":{
     "node_id":"C5nr3gyQjw7831DtKkN9hq",
     "type":"MD",
     "hide_input_from_viewers":true,
     "hide_output_from_viewers":true
    }
   }
  },
  {
   "cell_type":"code",
   "source":[
    "# Smoothing (Moving Average)\n",
    "window = 12  # Choose the window size for the moving average\n",
    "rolling_mean = train['CPI'].rolling(window=window).mean()\n",
    "\n",
    "plt.figure(figsize=(10, 6))\n",
    "plt.plot(train.index, train['CPI'], label='Original')\n",
    "plt.plot(rolling_mean.index, rolling_mean, label='Moving Average')\n",
    "plt.title('CPI Index - Smoothing (Moving Average)', fontsize=15)\n",
    "plt.xlabel('Date', fontsize=14)\n",
    "plt.ylabel('CPI Index', fontsize=14)\n",
    "plt.xticks(fontsize=13)\n",
    "plt.yticks(fontsize=13)\n",
    "plt.legend()\n",
    "plt.tight_layout()\n",
    "plt.show()"
   ],
   "execution_count":24,
   "outputs":[
    {
     "data":{
      "image\/png":"[encoded data removed]"
     },
     "metadata":{
      "image\/png":{
       
      }
     },
     "output_type":"display_data"
    }
   ],
   "metadata":{
    "datalore":{
     "node_id":"mgwNgscCYL8LOxri3Szsjc",
     "type":"CODE",
     "hide_input_from_viewers":true,
     "hide_output_from_viewers":true
    }
   }
  },
  {
   "cell_type":"markdown",
   "source":[
    "# Stationarity Analysis\n",
    "The provided code is performing stationarity analysis on the original data, specifically using the Dickey-Fuller test. The Dickey-Fuller test is a statistical test used to determine if a time series is stationary or not. Stationarity is an important property of a time series, as it implies that the statistical properties of the series do not change over time.\n",
    "\n",
    "This code calculates the ADF statistic, p-value, and critical values using the Dickey-Fuller test to assess the stationarity of the time series data. The ADF statistic and p-value are key metrics used to determine the stationarity of the series, while the critical values provide a reference for making the determination."
   ],
   "attachments":{
    
   },
   "metadata":{
    "datalore":{
     "node_id":"fcV6et0ZBaZa8DrARpUwoK",
     "type":"MD",
     "hide_input_from_viewers":true,
     "hide_output_from_viewers":true
    }
   }
  },
  {
   "cell_type":"code",
   "source":[
    "# Stationarity analysis\n",
    "def stationarity_analysis(data):\n",
    "    # Perform Dickey-Fuller test\n",
    "    result = adfuller(data)\n",
    "    print('>>>\\tADF Statistic:', result[0])\n",
    "    print('\\n>>>\\tp-value:', result[1])\n",
    "    print('\\n>>>\\tCritical Values:')\n",
    "    for key, value in result[4].items():\n",
    "        print(f'   {key}: {value}')\n",
    "\n",
    "print('>>>\\t\\tStationarity Analysis - Original Data:')\n",
    "stationarity_analysis(train['CPI'])"
   ],
   "execution_count":25,
   "outputs":[
    {
     "name":"stdout",
     "text":[
      ">>>\t\tStationarity Analysis - Original Data:\n",
      ">>>\tADF Statistic: 4.765834677572072\n",
      "\n",
      ">>>\tp-value: 1.0\n",
      "\n",
      ">>>\tCritical Values:\n",
      "   1%: -3.468952197801766\n",
      "   5%: -2.878495056473015\n",
      "   10%: -2.57580913601947\n"
     ],
     "output_type":"stream"
    }
   ],
   "metadata":{
    "datalore":{
     "node_id":"jDp8VPrkrVS8qYrtc1GIf1",
     "type":"CODE",
     "hide_input_from_viewers":true,
     "hide_output_from_viewers":true
    }
   }
  },
  {
   "cell_type":"markdown",
   "source":[
    "# Time Series Decomposition\n",
    "The provided code performs time series decomposition using the additive model and visualizes the original data, trend, seasonality, and residuals.\n",
    "\n",
    "For more information:\n",
    "- Trend: The trend component represents the long-term pattern or direction in the data. It captures the overall upward or downward movement of the series over time.\n",
    "\n",
    "- Seasonality: The seasonality component represents the repeating patterns or cycles within the data. It reflects regular fluctuations in the series that occur with a fixed frequency, such as daily, monthly, or yearly patterns.\n",
    "\n",
    "- Residuals: The residuals, also known as the remainder or error component, represent the fluctuations that cannot be explained by the trend or seasonality. They capture the random or irregular variations in the series that are left after removing the trend and seasonality components. Residuals are often assumed to be noise or random fluctuations around the other components."
   ],
   "attachments":{
    
   },
   "metadata":{
    "datalore":{
     "node_id":"H8AiA31CRa4KXyyQ3b6pif",
     "type":"MD",
     "hide_input_from_viewers":true,
     "hide_output_from_viewers":true
    }
   }
  },
  {
   "cell_type":"code",
   "source":[
    "# Time series decomposition\n",
    "decomposition = seasonal_decompose(train['CPI'], model='additive')\n",
    "\n",
    "plt.figure(figsize=(10, 8))\n",
    "plt.subplot(4, 1, 1)\n",
    "plt.plot(train.index, train['CPI'])\n",
    "plt.title('Original Data')\n",
    "plt.subplot(4, 1, 2)\n",
    "plt.plot(train.index, decomposition.trend)\n",
    "plt.title('Trend')\n",
    "plt.subplot(4, 1, 3)\n",
    "plt.plot(train.index, decomposition.seasonal)\n",
    "plt.title('Seasonality')\n",
    "plt.subplot(4, 1, 4)\n",
    "plt.plot(train.index, decomposition.resid)\n",
    "plt.title('Residuals')\n",
    "plt.tight_layout()\n",
    "plt.show()"
   ],
   "execution_count":26,
   "outputs":[
    {
     "data":{
      "image\/png":"[encoded data removed]"
     },
     "metadata":{
      "image\/png":{
       
      }
     },
     "output_type":"display_data"
    }
   ],
   "metadata":{
    "datalore":{
     "node_id":"y1DrsMudZCRKvhwFhzSOgC",
     "type":"CODE",
     "hide_input_from_viewers":true,
     "hide_output_from_viewers":true
    }
   }
  },
  {
   "cell_type":"markdown",
   "source":[
    "# ARIMA"
   ],
   "attachments":{
    
   },
   "metadata":{
    "datalore":{
     "node_id":"IvNT8ZukMMK2jQLovfzP5Q",
     "type":"MD",
     "hide_input_from_viewers":true,
     "hide_output_from_viewers":true
    }
   }
  },
  {
   "cell_type":"code",
   "source":[
    "# Read the CSV file\n",
    "data = pd.read_csv('CPI_index_clean.csv')\n",
    "\n",
    "# Reshape the data using the melt function\n",
    "melted_data = pd.melt(data, id_vars='Year', var_name='Month', value_name='CPI')\n",
    "\n",
    "# Convert the 'Year' and 'Month' columns to datetime format\n",
    "melted_data['Date'] = pd.to_datetime(melted_data['Year'].astype(str) + '-' + melted_data['Month'], format='%Y-%B')\n",
    "\n",
    "# Set the 'Date' column as the DataFrame index\n",
    "melted_data.set_index('Date', inplace=True)\n",
    "\n",
    "# Drop the unnecessary columns\n",
    "melted_data.drop(['Year', 'Month'], axis=1, inplace=True)\n",
    "\n",
    "# Sort the data by date\n",
    "melted_data.sort_index(inplace=True)\n",
    "\n",
    "# Set the frequency of the data to monthly\n",
    "melted_data = melted_data.asfreq('MS')\n",
    "\n",
    "# Split the data into training and test sets\n",
    "train = melted_data[:'2019-09-01']\n",
    "test = melted_data['2019-09-01':'2023-04-01']"
   ],
   "execution_count":27,
   "outputs":[
    
   ],
   "metadata":{
    "datalore":{
     "node_id":"fCwwEVVuKk2ZpBspPs0Bre",
     "type":"CODE",
     "hide_input_from_viewers":true,
     "hide_output_from_viewers":true
    }
   }
  },
  {
   "cell_type":"markdown",
   "source":[
    "# Addressing the Non-stationary Issue\n",
    "The initial parameters provided to the model are non-stationary, which can lead to inaccurate forecasting results.\n",
    "\n",
    "To address this issue, we can try a couple of methods:\n",
    "1. **Differencing:** differencing can be used to transform it into a stationary series. We can apply differencing to the data before fitting the ARIMA model.\n",
    "\n",
    "2. **Adjust Model Order:** Another approach is to adjust the order of the ARIMA model. The order of the model determines the number of autoregressive (p), differencing (d), and moving average (q) terms. By modifying these values, we can try different combinations to improve the model's fit."
   ],
   "attachments":{
    
   },
   "metadata":{
    "datalore":{
     "node_id":"N9PWwI7gvvrb1Fh3SbVcRv",
     "type":"MD",
     "hide_input_from_viewers":true,
     "hide_output_from_viewers":true
    }
   }
  },
  {
   "cell_type":"code",
   "source":[
    "# Apply differencing to the training data\n",
    "train_diff = train['CPI'].diff().dropna()\n",
    "\n",
    "# Fit the ARIMA model with differenced data\n",
    "model = ARIMA(train_diff, order=(1, 0, 1))\n",
    "arima_model = model.fit()\n",
    "\n",
    "# Forecast using the ARIMA model with differenced data\n",
    "forecast_diff = arima_model.predict(start=test.index[0], end=test.index[-1])\n",
    "\n",
    "# Convert the differenced forecast back to the original scale\n",
    "forecast = train['CPI'].iloc[-1] + forecast_diff.cumsum()\n",
    "\n",
    "model = ARIMA(train['CPI'], order=(2, 1, 2))  # Adjust the order as per the data characteristics\n",
    "\n",
    "arima_model = model.fit()\n",
    "\n",
    "# Forecast using the ARIMA model\n",
    "forecast = arima_model.predict(start=test.index[0], end=test.index[-1])\n",
    "\n",
    "# Plot the ARIMA forecast\n",
    "plt.figure(figsize=(10, 8))\n",
    "plt.plot(train.index, train['CPI'], label='Training Data')\n",
    "plt.plot(test.index, test['CPI'], label='Test Data')\n",
    "plt.plot(forecast.index, forecast, label='ARIMA Forecast')\n",
    "plt.title('CPI Index - ARIMA Forecast', fontsize=15)\n",
    "plt.xlabel('Date', fontsize=14)\n",
    "plt.ylabel('CPI Index', fontsize=14)\n",
    "plt.legend()\n",
    "plt.xticks(fontsize=12)\n",
    "plt.yticks(fontsize=12)\n",
    "plt.tight_layout()\n",
    "plt.show()"
   ],
   "execution_count":28,
   "outputs":[
    {
     "data":{
      "image\/png":"[encoded data removed]"
     },
     "metadata":{
      "image\/png":{
       
      }
     },
     "output_type":"display_data"
    }
   ],
   "metadata":{
    "datalore":{
     "node_id":"sHjmpSFzncmX2uqrBh3nai",
     "type":"CODE",
     "hide_input_from_viewers":true,
     "hide_output_from_viewers":true
    }
   }
  },
  {
   "cell_type":"markdown",
   "source":[
    "# The Forecasted Values of ARIMA"
   ],
   "attachments":{
    
   },
   "metadata":{
    "datalore":{
     "node_id":"ts2r961uEeLeMBg1hu4lsm",
     "type":"MD",
     "hide_input_from_viewers":true,
     "hide_output_from_viewers":true
    }
   }
  },
  {
   "cell_type":"code",
   "source":[
    "print(\">>>\\tThe forecast for dates after September 2019:\")\n",
    "print(forecast)"
   ],
   "execution_count":32,
   "outputs":[
    {
     "name":"stdout",
     "text":[
      ">>>\tThe forecast for dates after September 2019:\n",
      "2019-09-01    424.618783\n",
      "2019-10-01    432.444715\n",
      "2019-11-01    435.750916\n",
      "2019-12-01    439.586589\n",
      "2020-01-01    443.275893\n",
      "2020-02-01    446.992663\n",
      "2020-03-01    450.692213\n",
      "2020-04-01    454.386058\n",
      "2020-05-01    458.071259\n",
      "2020-06-01    461.748594\n",
      "2020-07-01    465.417885\n",
      "2020-08-01    469.079199\n",
      "2020-09-01    472.732540\n",
      "2020-10-01    476.377930\n",
      "2020-11-01    480.015385\n",
      "2020-12-01    483.644923\n",
      "2021-01-01    487.266560\n",
      "2021-02-01    490.880314\n",
      "2021-03-01    494.486201\n",
      "2021-04-01    498.084240\n",
      "2021-05-01    501.674447\n",
      "2021-06-01    505.256839\n",
      "2021-07-01    508.831434\n",
      "2021-08-01    512.398247\n",
      "2021-09-01    515.957297\n",
      "2021-10-01    519.508600\n",
      "2021-11-01    523.052173\n",
      "2021-12-01    526.588032\n",
      "2022-01-01    530.116195\n",
      "2022-02-01    533.636678\n",
      "2022-03-01    537.149498\n",
      "2022-04-01    540.654672\n",
      "2022-05-01    544.152216\n",
      "2022-06-01    547.642147\n",
      "2022-07-01    551.124482\n",
      "2022-08-01    554.599236\n",
      "2022-09-01    558.066427\n",
      "2022-10-01    561.526071\n",
      "2022-11-01    564.978185\n",
      "2022-12-01    568.422784\n",
      "2023-01-01    571.859885\n",
      "2023-02-01    575.289505\n",
      "2023-03-01    578.711660\n",
      "2023-04-01    582.126365\n",
      "Freq: MS, Name: predicted_mean, dtype: float64\n"
     ],
     "output_type":"stream"
    }
   ],
   "metadata":{
    "datalore":{
     "node_id":"i6D6AQSzXxbllCwT3XrZtv",
     "type":"CODE",
     "hide_input_from_viewers":true,
     "hide_output_from_viewers":true
    }
   }
  },
  {
   "cell_type":"markdown",
   "source":[
    "# Actual Test Data"
   ],
   "attachments":{
    
   },
   "metadata":{
    "datalore":{
     "node_id":"NNV8UAVHUsq6fdH8ZNwmDT",
     "type":"MD",
     "hide_input_from_viewers":true,
     "hide_output_from_viewers":true
    }
   }
  },
  {
   "cell_type":"code",
   "source":[
    "print(test)"
   ],
   "execution_count":33,
   "outputs":[
    {
     "name":"stdout",
     "text":[
      "                CPI\n",
      "Date               \n",
      "2019-09-01   427.04\n",
      "2019-10-01   435.59\n",
      "2019-11-01   437.25\n",
      "2019-12-01   440.50\n",
      "2020-01-01   446.45\n",
      "2020-02-01   448.02\n",
      "2020-03-01   450.58\n",
      "2020-04-01   454.43\n",
      "2020-05-01   460.62\n",
      "2020-06-01   465.84\n",
      "2020-07-01   468.56\n",
      "2020-08-01   472.61\n",
      "2020-09-01   477.21\n",
      "2020-10-01   487.38\n",
      "2020-11-01   498.58\n",
      "2020-12-01   504.81\n",
      "2021-01-01   513.30\n",
      "2021-02-01   517.96\n",
      "2021-03-01   523.53\n",
      "2021-04-01   532.32\n",
      "2021-05-01   537.05\n",
      "2021-06-01   547.48\n",
      "2021-07-01   557.36\n",
      "2021-08-01   563.60\n",
      "2021-09-01   570.66\n",
      "2021-10-01   584.32\n",
      "2021-11-01   604.84\n",
      "2021-12-01   686.95\n",
      "2022-01-01   763.23\n",
      "2022-02-01   799.93\n",
      "2022-03-01   843.64\n",
      "2022-04-01   904.79\n",
      "2022-05-01   931.76\n",
      "2022-06-01   977.90\n",
      "2022-07-01  1001.03\n",
      "2022-08-01  1015.65\n",
      "2022-09-01  1046.89\n",
      "2022-10-01  1084.00\n",
      "2022-11-01  1115.26\n",
      "2022-12-01  1128.45\n",
      "2023-01-01  1203.48\n",
      "2023-02-01  1241.33\n",
      "2023-03-01  1269.75\n",
      "2023-04-01  1300.04\n"
     ],
     "output_type":"stream"
    }
   ],
   "metadata":{
    "datalore":{
     "node_id":"VyD0kpBOGY1OHlEJP6xy87",
     "type":"CODE",
     "hide_input_from_viewers":true,
     "hide_output_from_viewers":true
    }
   }
  },
  {
   "cell_type":"markdown",
   "source":[
    "# Comparison Between Forecast & Test Data\n",
    "## Mean Squared Error\n",
    "$$\\Large\n",
    "\\text{MSE} = \\frac{1}{n} \\sum_{i=1}^{n} (y_i - \\hat{y}_i)^2\n",
    "$$\n",
    "\n",
    "## Mean Aboslte Error\n",
    "$$\\Large\n",
    "\\text{MAE} = \\frac{1}{n} \\sum_{i=1}^{n} |y_i - \\hat{y}_i|\n",
    "$$"
   ],
   "attachments":{
    
   },
   "metadata":{
    "datalore":{
     "node_id":"ZZY6RWzKwoOGfptoFCTjrO",
     "type":"MD",
     "hide_input_from_viewers":true,
     "hide_output_from_viewers":true
    }
   }
  },
  {
   "cell_type":"code",
   "source":[
    "series1 = pd.Series(test.squeeze())\n",
    "series2 = pd.Series(forecast.squeeze())\n",
    "\n",
    "# Mean Squared Error (MSE)\n",
    "mse = mean_squared_error(series1, series2)\n",
    "\n",
    "# Mean Absolute Error (MAE)\n",
    "mae = np.mean(np.abs(series1 - series2), axis=0)\n",
    "\n",
    "print(\">>>\\tMSE:\", mse)\n",
    "print(\">>>\\tMAE:\", mae)"
   ],
   "execution_count":47,
   "outputs":[
    {
     "name":"stdout",
     "text":[
      ">>>\tMSE: 93591.59973882654\n",
      ">>>\tMAE: 192.34814747544587\n"
     ],
     "output_type":"stream"
    }
   ],
   "metadata":{
    "datalore":{
     "node_id":"iIjlZ45mesnn9Pau77xVe9",
     "type":"CODE",
     "hide_input_from_viewers":true,
     "hide_output_from_viewers":true
    }
   }
  },
  {
   "cell_type":"markdown",
   "source":[
    
   ],
   "attachments":{
    
   },
   "metadata":{
    "datalore":{
     "node_id":"Jg7P02wbrEmltzJWCWt5Nr",
     "type":"MD",
     "hide_input_from_viewers":true,
     "hide_output_from_viewers":true
    }
   }
  }
 ],
 "metadata":{
  "kernelspec":{
   "display_name":"Python",
   "language":"python",
   "name":"python"
  },
  "datalore":{
   "computation_mode":"JUPYTER",
   "package_manager":"pip",
   "base_environment":"default",
   "packages":[
    
   ],
   "report_row_ids":[
    
   ],
   "version":3
  }
 },
 "nbformat":4,
 "nbformat_minor":4
}